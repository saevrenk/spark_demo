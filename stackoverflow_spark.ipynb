{
 "cells": [
  {
   "cell_type": "code",
   "execution_count": 59,
   "metadata": {},
   "outputs": [],
   "source": [
    "import pyspark\n",
    "from pyspark.sql import SparkSession\n",
    "from pyspark.sql.functions import *"
   ]
  },
  {
   "cell_type": "code",
   "execution_count": 60,
   "metadata": {},
   "outputs": [],
   "source": [
    "spark=SparkSession.builder.appName('stackoverflow').getOrCreate()"
   ]
  },
  {
   "cell_type": "code",
   "execution_count": 72,
   "metadata": {},
   "outputs": [],
   "source": [
    "so_df = spark.read.load(\"/Users/sae/Downloads/stack-overflow-developer-survey-2019/survey_results_public.csv\",format = \"csv\" , header=True, inferschema=True)"
   ]
  },
  {
   "cell_type": "code",
   "execution_count": 73,
   "metadata": {},
   "outputs": [
    {
     "name": "stdout",
     "output_type": "stream",
     "text": [
      "root\n",
      " |-- Respondent: integer (nullable = true)\n",
      " |-- MainBranch: string (nullable = true)\n",
      " |-- Hobbyist: string (nullable = true)\n",
      " |-- OpenSourcer: string (nullable = true)\n",
      " |-- OpenSource: string (nullable = true)\n",
      " |-- Employment: string (nullable = true)\n",
      " |-- Country: string (nullable = true)\n",
      " |-- Student: string (nullable = true)\n",
      " |-- EdLevel: string (nullable = true)\n",
      " |-- UndergradMajor: string (nullable = true)\n",
      " |-- EduOther: string (nullable = true)\n",
      " |-- OrgSize: string (nullable = true)\n",
      " |-- DevType: string (nullable = true)\n",
      " |-- YearsCode: string (nullable = true)\n",
      " |-- Age1stCode: string (nullable = true)\n",
      " |-- YearsCodePro: string (nullable = true)\n",
      " |-- CareerSat: string (nullable = true)\n",
      " |-- JobSat: string (nullable = true)\n",
      " |-- MgrIdiot: string (nullable = true)\n",
      " |-- MgrMoney: string (nullable = true)\n",
      " |-- MgrWant: string (nullable = true)\n",
      " |-- JobSeek: string (nullable = true)\n",
      " |-- LastHireDate: string (nullable = true)\n",
      " |-- LastInt: string (nullable = true)\n",
      " |-- FizzBuzz: string (nullable = true)\n",
      " |-- JobFactors: string (nullable = true)\n",
      " |-- ResumeUpdate: string (nullable = true)\n",
      " |-- CurrencySymbol: string (nullable = true)\n",
      " |-- CurrencyDesc: string (nullable = true)\n",
      " |-- CompTotal: string (nullable = true)\n",
      " |-- CompFreq: string (nullable = true)\n",
      " |-- ConvertedComp: string (nullable = true)\n",
      " |-- WorkWeekHrs: string (nullable = true)\n",
      " |-- WorkPlan: string (nullable = true)\n",
      " |-- WorkChallenge: string (nullable = true)\n",
      " |-- WorkRemote: string (nullable = true)\n",
      " |-- WorkLoc: string (nullable = true)\n",
      " |-- ImpSyn: string (nullable = true)\n",
      " |-- CodeRev: string (nullable = true)\n",
      " |-- CodeRevHrs: string (nullable = true)\n",
      " |-- UnitTests: string (nullable = true)\n",
      " |-- PurchaseHow: string (nullable = true)\n",
      " |-- PurchaseWhat: string (nullable = true)\n",
      " |-- LanguageWorkedWith: string (nullable = true)\n",
      " |-- LanguageDesireNextYear: string (nullable = true)\n",
      " |-- DatabaseWorkedWith: string (nullable = true)\n",
      " |-- DatabaseDesireNextYear: string (nullable = true)\n",
      " |-- PlatformWorkedWith: string (nullable = true)\n",
      " |-- PlatformDesireNextYear: string (nullable = true)\n",
      " |-- WebFrameWorkedWith: string (nullable = true)\n",
      " |-- WebFrameDesireNextYear: string (nullable = true)\n",
      " |-- MiscTechWorkedWith: string (nullable = true)\n",
      " |-- MiscTechDesireNextYear: string (nullable = true)\n",
      " |-- DevEnviron: string (nullable = true)\n",
      " |-- OpSys: string (nullable = true)\n",
      " |-- Containers: string (nullable = true)\n",
      " |-- BlockchainOrg: string (nullable = true)\n",
      " |-- BlockchainIs: string (nullable = true)\n",
      " |-- BetterLife: string (nullable = true)\n",
      " |-- ITperson: string (nullable = true)\n",
      " |-- OffOn: string (nullable = true)\n",
      " |-- SocialMedia: string (nullable = true)\n",
      " |-- Extraversion: string (nullable = true)\n",
      " |-- ScreenName: string (nullable = true)\n",
      " |-- SOVisit1st: string (nullable = true)\n",
      " |-- SOVisitFreq: string (nullable = true)\n",
      " |-- SOVisitTo: string (nullable = true)\n",
      " |-- SOFindAnswer: string (nullable = true)\n",
      " |-- SOTimeSaved: string (nullable = true)\n",
      " |-- SOHowMuchTime: string (nullable = true)\n",
      " |-- SOAccount: string (nullable = true)\n",
      " |-- SOPartFreq: string (nullable = true)\n",
      " |-- SOJobs: string (nullable = true)\n",
      " |-- EntTeams: string (nullable = true)\n",
      " |-- SOComm: string (nullable = true)\n",
      " |-- WelcomeChange: string (nullable = true)\n",
      " |-- SONewContent: string (nullable = true)\n",
      " |-- Age: string (nullable = true)\n",
      " |-- Gender: string (nullable = true)\n",
      " |-- Trans: string (nullable = true)\n",
      " |-- Sexuality: string (nullable = true)\n",
      " |-- Ethnicity: string (nullable = true)\n",
      " |-- Dependents: string (nullable = true)\n",
      " |-- SurveyLength: string (nullable = true)\n",
      " |-- SurveyEase: string (nullable = true)\n",
      "\n",
      "None\n"
     ]
    }
   ],
   "source": [
    "print(str(so_df.printSchema()))"
   ]
  },
  {
   "cell_type": "code",
   "execution_count": 74,
   "metadata": {},
   "outputs": [
    {
     "name": "stdout",
     "output_type": "stream",
     "text": [
      "['Respondent', 'MainBranch', 'Hobbyist', 'OpenSourcer', 'OpenSource', 'Employment', 'Country', 'Student', 'EdLevel', 'UndergradMajor', 'EduOther', 'OrgSize', 'DevType', 'YearsCode', 'Age1stCode', 'YearsCodePro', 'CareerSat', 'JobSat', 'MgrIdiot', 'MgrMoney', 'MgrWant', 'JobSeek', 'LastHireDate', 'LastInt', 'FizzBuzz', 'JobFactors', 'ResumeUpdate', 'CurrencySymbol', 'CurrencyDesc', 'CompTotal', 'CompFreq', 'ConvertedComp', 'WorkWeekHrs', 'WorkPlan', 'WorkChallenge', 'WorkRemote', 'WorkLoc', 'ImpSyn', 'CodeRev', 'CodeRevHrs', 'UnitTests', 'PurchaseHow', 'PurchaseWhat', 'LanguageWorkedWith', 'LanguageDesireNextYear', 'DatabaseWorkedWith', 'DatabaseDesireNextYear', 'PlatformWorkedWith', 'PlatformDesireNextYear', 'WebFrameWorkedWith', 'WebFrameDesireNextYear', 'MiscTechWorkedWith', 'MiscTechDesireNextYear', 'DevEnviron', 'OpSys', 'Containers', 'BlockchainOrg', 'BlockchainIs', 'BetterLife', 'ITperson', 'OffOn', 'SocialMedia', 'Extraversion', 'ScreenName', 'SOVisit1st', 'SOVisitFreq', 'SOVisitTo', 'SOFindAnswer', 'SOTimeSaved', 'SOHowMuchTime', 'SOAccount', 'SOPartFreq', 'SOJobs', 'EntTeams', 'SOComm', 'WelcomeChange', 'SONewContent', 'Age', 'Gender', 'Trans', 'Sexuality', 'Ethnicity', 'Dependents', 'SurveyLength', 'SurveyEase']\n"
     ]
    }
   ],
   "source": [
    "print(str(so_df.columns))"
   ]
  },
  {
   "cell_type": "code",
   "execution_count": 76,
   "metadata": {},
   "outputs": [
    {
     "name": "stdout",
     "output_type": "stream",
     "text": [
      "+--------------------+------------------+\n",
      "|              Gender|          avg(Age)|\n",
      "+--------------------+------------------+\n",
      "|                 Man|30.424181874074282|\n",
      "|                  NA| 30.35640785781104|\n",
      "|Man;Non-binary, g...|28.908536585365855|\n",
      "|           Woman;Man| 26.23170731707317|\n",
      "|Woman;Man;Non-bin...| 29.78723404255319|\n",
      "|Woman;Non-binary,...|28.210884353741495|\n",
      "|Non-binary, gende...|29.018036072144287|\n",
      "|               Woman| 29.49538679914833|\n",
      "+--------------------+------------------+\n",
      "\n"
     ]
    }
   ],
   "source": [
    "so_df = so_df.withColumn(\"Age\", so_df.Age.cast('integer'))\n",
    "so_df.select(\"Gender\",\"Age\").groupBy(\"Gender\").avg().show()"
   ]
  },
  {
   "cell_type": "code",
   "execution_count": 90,
   "metadata": {},
   "outputs": [
    {
     "name": "stdout",
     "output_type": "stream",
     "text": [
      "+--------------+-----+\n",
      "|       Country|count|\n",
      "+--------------+-----+\n",
      "| United States|20949|\n",
      "|         India| 9061|\n",
      "|       Germany| 5866|\n",
      "|United Kingdom| 5737|\n",
      "|        Canada| 3395|\n",
      "+--------------+-----+\n",
      "only showing top 5 rows\n",
      "\n"
     ]
    }
   ],
   "source": [
    "so_df.select(\"Country\", \"Respondent\").groupBy(\"Country\").count().sort(desc(\"count\")).show(5)"
   ]
  },
  {
   "cell_type": "code",
   "execution_count": 91,
   "metadata": {},
   "outputs": [
    {
     "name": "stdout",
     "output_type": "stream",
     "text": [
      "+--------------+----------------------+\n",
      "|       Country|Respondent_countrywise|\n",
      "+--------------+----------------------+\n",
      "| United States|                 20949|\n",
      "|         India|                  9061|\n",
      "|       Germany|                  5866|\n",
      "|United Kingdom|                  5737|\n",
      "|        Canada|                  3395|\n",
      "+--------------+----------------------+\n",
      "only showing top 5 rows\n",
      "\n"
     ]
    }
   ],
   "source": [
    "so_df.select(\"Country\", \"Respondent\") \\\n",
    "     .groupby(\"Country\") \\\n",
    "     .agg(count(\"Respondent\"). alias(\"Respondent_countrywise\")) \\\n",
    "     .sort(desc(\"Respondent_countrywise\")).show(5)"
   ]
  },
  {
   "cell_type": "code",
   "execution_count": 120,
   "metadata": {},
   "outputs": [],
   "source": [
    "so_df = so_df.withColumn(\"Age1stCode\", when(so_df.Age1stCode == 'Younger than 5 years', 4)\\\n",
    "                .when(so_df.Age1stCode == \"Older than 85\", 86)\\\n",
    "                .when(so_df.Age1stCode == \"NA\", None).otherwise(so_df.Age1stCode))"
   ]
  },
  {
   "cell_type": "code",
   "execution_count": 123,
   "metadata": {},
   "outputs": [
    {
     "name": "stdout",
     "output_type": "stream",
     "text": [
      "+----------+\n",
      "|Age1stCode|\n",
      "+----------+\n",
      "|        86|\n",
      "|        86|\n",
      "|        86|\n",
      "+----------+\n",
      "only showing top 3 rows\n",
      "\n"
     ]
    }
   ],
   "source": [
    "so_df = so_df.withColumn(\"Age1stCode\", so_df.Age1stCode.cast(\"integer\"))\n",
    "so_df.select(\"Age1stCode\").sort(desc(\"Age1stCode\")).show(3)"
   ]
  },
  {
   "cell_type": "code",
   "execution_count": null,
   "metadata": {},
   "outputs": [],
   "source": [
    "so_df.select"
   ]
  },
  {
   "cell_type": "code",
   "execution_count": 128,
   "metadata": {},
   "outputs": [
    {
     "name": "stdout",
     "output_type": "stream",
     "text": [
      "+-------------+---------------+\n",
      "|      Country|max(Age1stCode)|\n",
      "+-------------+---------------+\n",
      "|United States|             56|\n",
      "+-------------+---------------+\n",
      "\n"
     ]
    }
   ],
   "source": [
    "mask_country = (so_df.Country=='United States') \n",
    "mask_major1 = (so_df.UndergradMajor=='Mathematics or statistics')\n",
    "mask_major2 = (so_df.UndergradMajor=='Computer science, computer engineering, or software engineering')\n",
    "\n",
    "so_df.select(\"Country\", \"Age1stCode\") \\\n",
    "     .filter(mask_country & (mask_major1 | mask_major2)) \\\n",
    "     .groupBy(\"Country\") \\\n",
    "     .max(\"Age1stCode\") \\\n",
    "     .show()"
   ]
  },
  {
   "cell_type": "code",
   "execution_count": 129,
   "metadata": {},
   "outputs": [],
   "source": [
    "spark.stop()"
   ]
  },
  {
   "cell_type": "code",
   "execution_count": null,
   "metadata": {},
   "outputs": [],
   "source": []
  }
 ],
 "metadata": {
  "kernelspec": {
   "display_name": "Python 3",
   "language": "python",
   "name": "python3"
  },
  "language_info": {
   "codemirror_mode": {
    "name": "ipython",
    "version": 3
   },
   "file_extension": ".py",
   "mimetype": "text/x-python",
   "name": "python",
   "nbconvert_exporter": "python",
   "pygments_lexer": "ipython3",
   "version": "3.9.6"
  },
  "orig_nbformat": 4,
  "vscode": {
   "interpreter": {
    "hash": "31f2aee4e71d21fbe5cf8b01ff0e069b9275f58929596ceb00d14d90e3e16cd6"
   }
  }
 },
 "nbformat": 4,
 "nbformat_minor": 2
}
