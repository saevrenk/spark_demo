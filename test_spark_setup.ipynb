{
 "cells": [
  {
   "cell_type": "code",
   "execution_count": 10,
   "metadata": {},
   "outputs": [],
   "source": [
    "import pyspark\n",
    "import pandas as pd"
   ]
  },
  {
   "cell_type": "code",
   "execution_count": 8,
   "metadata": {},
   "outputs": [],
   "source": [
    "\n",
    "\n",
    "from pyspark import SparkContext\n",
    "sc = SparkContext.getOrCreate()\n",
    "# remember to change the path/location of file\n",
    "airports = sc.textFile(\"/Users/sae/vs_projects/spark_demo/spark_files/airports.txt.text\")\n",
    "airports.take(9)\n",
    "sc.stop()"
   ]
  },
  {
   "cell_type": "code",
   "execution_count": 1,
   "metadata": {},
   "outputs": [
    {
     "name": "stderr",
     "output_type": "stream",
     "text": [
      "Setting default log level to \"WARN\".\n",
      "To adjust logging level use sc.setLogLevel(newLevel). For SparkR, use setLogLevel(newLevel).\n"
     ]
    },
    {
     "name": "stdout",
     "output_type": "stream",
     "text": [
      "23/02/08 13:30:04 WARN NativeCodeLoader: Unable to load native-hadoop library for your platform... using builtin-java classes where applicable\n",
      "23/02/08 13:30:05 WARN Utils: Service 'SparkUI' could not bind on port 4040. Attempting port 4041.\n",
      "23/02/08 13:30:05 WARN Utils: Service 'SparkUI' could not bind on port 4041. Attempting port 4042.\n",
      "root\n",
      " |-- employee_name: string (nullable = true)\n",
      " |-- department: string (nullable = true)\n",
      " |-- state: string (nullable = true)\n",
      " |-- salary: long (nullable = true)\n",
      " |-- age: long (nullable = true)\n",
      " |-- bonus: long (nullable = true)\n",
      "\n",
      "+-------------+----------+-----+------+---+-----+\n",
      "|employee_name|department|state|salary|age|bonus|\n",
      "+-------------+----------+-----+------+---+-----+\n",
      "|James        |Sales     |NY   |90000 |34 |10000|\n",
      "|Michael      |Sales     |NY   |86000 |56 |20000|\n",
      "|Robert       |Sales     |CA   |81000 |30 |23000|\n",
      "|Maria        |Finance   |CA   |90000 |24 |23000|\n",
      "+-------------+----------+-----+------+---+-----+\n",
      "\n"
     ]
    },
    {
     "name": "stderr",
     "output_type": "stream",
     "text": [
      "                                                                                \r"
     ]
    }
   ],
   "source": [
    "from pyspark.sql import SparkSession\n",
    "spark = SparkSession.builder.appName('SparkByExamples.com').getOrCreate()\n",
    "simpleData = [(\"James\",\"Sales\",\"NY\",90000,34,10000), \\\n",
    "    (\"Michael\",\"Sales\",\"NY\",86000,56,20000), \\\n",
    "    (\"Robert\",\"Sales\",\"CA\",81000,30,23000), \\\n",
    "    (\"Maria\",\"Finance\",\"CA\",90000,24,23000)]\n",
    "\n",
    "columns = [\"employee_name\",\"department\",\"state\",\"salary\",\"age\",\"bonus\"]\n",
    "# ------Creating data frame Using createDataFrame() function-----\n",
    "df = spark.createDataFrame(data = simpleData, schema = columns)\n",
    "df.printSchema()\n",
    "df.show(truncate=False)\n"
   ]
  },
  {
   "cell_type": "code",
   "execution_count": 2,
   "metadata": {},
   "outputs": [
    {
     "name": "stdout",
     "output_type": "stream",
     "text": [
      "     id    name       city\n",
      "0  1001   Young  Rego Park\n",
      "1  1002   James      Bronx\n",
      "2  1003  Haseeb    Astoria\n",
      "root\n",
      " |-- id: long (nullable = true)\n",
      " |-- name: string (nullable = true)\n",
      " |-- city: string (nullable = true)\n",
      "\n"
     ]
    },
    {
     "name": "stderr",
     "output_type": "stream",
     "text": [
      "/Users/sae/Library/Python/3.9/lib/python/site-packages/pyspark/sql/pandas/conversion.py:474: FutureWarning: iteritems is deprecated and will be removed in a future version. Use .items instead.\n",
      "  for column, series in pdf.iteritems():\n",
      "/Users/sae/Library/Python/3.9/lib/python/site-packages/pyspark/sql/pandas/conversion.py:486: FutureWarning: iteritems is deprecated and will be removed in a future version. Use .items instead.\n",
      "  for column, series in pdf.iteritems():\n"
     ]
    },
    {
     "name": "stdout",
     "output_type": "stream",
     "text": [
      "+----+------+---------+\n",
      "|  id|  name|     city|\n",
      "+----+------+---------+\n",
      "|1001| Young|Rego Park|\n",
      "|1002| James|    Bronx|\n",
      "|1003|Haseeb|  Astoria|\n",
      "+----+------+---------+\n",
      "\n"
     ]
    }
   ],
   "source": [
    "import pandas as pd\n",
    "student_dict = {\"id\": [1001, 1002, 1003],\"name\": [ \"Young\", \"James\", \"Haseeb\"],\"city\": [ \"Rego Park\", \"Bronx\", \"Astoria\"]}\n",
    "\n",
    "# --- panda dataframe ----\n",
    "pd_df = pd.DataFrame(student_dict)\n",
    "print(pd_df)\n",
    "\n",
    "\n",
    "# ----- SparkSQL dataframe-----\n",
    "sp_df = spark.createDataFrame(pd_df)\n",
    "sp_df.printSchema()\n",
    "sp_df.show()\n"
   ]
  },
  {
   "cell_type": "code",
   "execution_count": 5,
   "metadata": {},
   "outputs": [
    {
     "name": "stdout",
     "output_type": "stream",
     "text": [
      "root\n",
      " |-- MLS: integer (nullable = true)\n",
      " |-- Location: string (nullable = true)\n",
      " |-- Price: double (nullable = true)\n",
      " |-- Bedrooms: integer (nullable = true)\n",
      " |-- Bathrooms: integer (nullable = true)\n",
      " |-- Size: integer (nullable = true)\n",
      " |-- Price SQ Ft: double (nullable = true)\n",
      " |-- Status: string (nullable = true)\n",
      "\n"
     ]
    }
   ],
   "source": [
    "# create df from csv\n",
    "df = spark.read.load(\"spark_files//RealEstate.csv\", format=\"csv\", header = True,inferSchema = True)\n",
    "df.printSchema()\n"
   ]
  },
  {
   "cell_type": "code",
   "execution_count": 3,
   "metadata": {},
   "outputs": [
    {
     "name": "stdout",
     "output_type": "stream",
     "text": [
      "root\n",
      " |-- City: string (nullable = true)\n",
      " |-- Country: string (nullable = true)\n",
      " |-- Decommisioned: boolean (nullable = true)\n",
      " |-- EstimatedPopulation: long (nullable = true)\n",
      " |-- Lat: double (nullable = true)\n",
      " |-- Location: string (nullable = true)\n",
      " |-- LocationText: string (nullable = true)\n",
      " |-- LocationType: string (nullable = true)\n",
      " |-- Long: double (nullable = true)\n",
      " |-- Notes: string (nullable = true)\n",
      " |-- RecordNumber: long (nullable = true)\n",
      " |-- State: string (nullable = true)\n",
      " |-- TaxReturnsFiled: long (nullable = true)\n",
      " |-- TotalWages: long (nullable = true)\n",
      " |-- WorldRegion: string (nullable = true)\n",
      " |-- Xaxis: double (nullable = true)\n",
      " |-- Yaxis: double (nullable = true)\n",
      " |-- Zaxis: double (nullable = true)\n",
      " |-- ZipCodeType: string (nullable = true)\n",
      " |-- Zipcode: long (nullable = true)\n",
      "\n",
      "+-------------------+-------+-------------+-------------------+-----+--------------------+--------------------+--------------+-------+-------------+------------+-----+---------------+----------+-----------+-----+-----+-----+-----------+-------+\n",
      "|               City|Country|Decommisioned|EstimatedPopulation|  Lat|            Location|        LocationText|  LocationType|   Long|        Notes|RecordNumber|State|TaxReturnsFiled|TotalWages|WorldRegion|Xaxis|Yaxis|Zaxis|ZipCodeType|Zipcode|\n",
      "+-------------------+-------+-------------+-------------------+-----+--------------------+--------------------+--------------+-------+-------------+------------+-----+---------------+----------+-----------+-----+-----+-----+-----------+-------+\n",
      "|        PARC PARQUE|     US|        false|               null|17.96|NA-US-PR-PARC PARQUE|     Parc Parque, PR|NOT ACCEPTABLE| -66.22|         null|           1|   PR|           null|      null|         NA| 0.38|-0.87|  0.3|   STANDARD|    704|\n",
      "|PASEO COSTA DEL SUR|     US|        false|               null|17.96|NA-US-PR-PASEO CO...|Paseo Costa Del S...|NOT ACCEPTABLE| -66.22|         null|           2|   PR|           null|      null|         NA| 0.38|-0.87|  0.3|   STANDARD|    704|\n",
      "|       BDA SAN LUIS|     US|        false|               null|18.14|NA-US-PR-BDA SAN ...|    Bda San Luis, PR|NOT ACCEPTABLE| -66.26|         null|          10|   PR|           null|      null|         NA| 0.38|-0.86| 0.31|   STANDARD|    709|\n",
      "|  CINGULAR WIRELESS|     US|        false|               null|32.72|NA-US-TX-CINGULAR...|Cingular Wireless...|NOT ACCEPTABLE| -97.31|         null|       61391|   TX|           null|      null|         NA| -0.1|-0.83| 0.54|     UNIQUE|  76166|\n",
      "|         FORT WORTH|     US|        false|               4053|32.75| NA-US-TX-FORT WORTH|      Fort Worth, TX|       PRIMARY| -97.33|         null|       61392|   TX|           2126| 122396986|         NA| -0.1|-0.83| 0.54|   STANDARD|  76177|\n",
      "|           FT WORTH|     US|        false|               4053|32.75|   NA-US-TX-FT WORTH|        Ft Worth, TX|    ACCEPTABLE| -97.33|         null|       61393|   TX|           2126| 122396986|         NA| -0.1|-0.83| 0.54|   STANDARD|  76177|\n",
      "|    URB EUGENE RICE|     US|        false|               null|17.96|NA-US-PR-URB EUGE...| Urb Eugene Rice, PR|NOT ACCEPTABLE| -66.22|         null|           4|   PR|           null|      null|         NA| 0.38|-0.87|  0.3|   STANDARD|    704|\n",
      "|               MESA|     US|        false|              26883|33.37|       NA-US-AZ-MESA|            Mesa, AZ|       PRIMARY|-111.64|no NWS data, |       39827|   AZ|          14962| 563792730|         NA| -0.3|-0.77| 0.55|   STANDARD|  85209|\n",
      "|               MESA|     US|        false|              25446|33.38|       NA-US-AZ-MESA|            Mesa, AZ|       PRIMARY|-111.84|         null|       39828|   AZ|          14374| 471000465|         NA|-0.31|-0.77| 0.55|   STANDARD|  85210|\n",
      "|           HILLIARD|     US|        false|               7443|30.69|   NA-US-FL-HILLIARD|        Hilliard, FL|       PRIMARY| -81.92|         null|       49345|   FL|           3922| 133112149|         NA| 0.12|-0.85| 0.51|   STANDARD|  32046|\n",
      "|             HOLDER|     US|        false|               null|28.96|     NA-US-FL-HOLDER|          Holder, FL|       PRIMARY| -82.41|         null|       49346|   FL|           null|      null|         NA| 0.11|-0.86| 0.48|     PO BOX|  34445|\n",
      "|               HOLT|     US|        false|               2190|30.72|       NA-US-FL-HOLT|            Holt, FL|       PRIMARY| -86.67|         null|       49347|   FL|           1207|  36395913|         NA| 0.04|-0.85| 0.51|   STANDARD|  32564|\n",
      "|          HOMOSASSA|     US|        false|               null|28.78|  NA-US-FL-HOMOSASSA|       Homosassa, FL|       PRIMARY| -82.61|         null|       49348|   FL|           null|      null|         NA| 0.11|-0.86| 0.48|     PO BOX|  34487|\n",
      "|       BDA SAN LUIS|     US|        false|               null|18.14|NA-US-PR-BDA SAN ...|    Bda San Luis, PR|NOT ACCEPTABLE| -66.26|         null|          10|   PR|           null|      null|         NA| 0.38|-0.86| 0.31|   STANDARD|    708|\n",
      "|      SECT LANAUSSE|     US|        false|               null|17.96|NA-US-PR-SECT LAN...|   Sect Lanausse, PR|NOT ACCEPTABLE| -66.22|         null|           3|   PR|           null|      null|         NA| 0.38|-0.87|  0.3|   STANDARD|    704|\n",
      "|      SPRING GARDEN|     US|        false|               null|33.97|NA-US-AL-SPRING G...|   Spring Garden, AL|       PRIMARY| -85.55|         null|       54354|   AL|           null|      null|         NA| 0.06|-0.82| 0.55|     PO BOX|  36275|\n",
      "|        SPRINGVILLE|     US|        false|               7845|33.77|NA-US-AL-SPRINGVILLE|     Springville, AL|       PRIMARY| -86.47|         null|       54355|   AL|           4046| 172127599|         NA| 0.05|-0.82| 0.55|   STANDARD|  35146|\n",
      "|        SPRUCE PINE|     US|        false|               1209|34.37|NA-US-AL-SPRUCE PINE|     Spruce Pine, AL|       PRIMARY| -87.69|         null|       54356|   AL|            610|  18525517|         NA| 0.03|-0.82| 0.56|   STANDARD|  35585|\n",
      "|           ASH HILL|     US|        false|               1666| 36.4|   NA-US-NC-ASH HILL|        Ash Hill, NC|NOT ACCEPTABLE| -80.56|         null|       76511|   NC|            842|  28876493|         NA| 0.13|-0.79| 0.59|   STANDARD|  27007|\n",
      "|           ASHEBORO|     US|        false|              15228|35.71|   NA-US-NC-ASHEBORO|        Asheboro, NC|       PRIMARY| -79.81|         null|       76512|   NC|           8355| 215474318|         NA| 0.14|-0.79| 0.58|   STANDARD|  27203|\n",
      "+-------------------+-------+-------------+-------------------+-----+--------------------+--------------------+--------------+-------+-------------+------------+-----+---------------+----------+-----------+-----+-----+-----+-----------+-------+\n",
      "only showing top 20 rows\n",
      "\n"
     ]
    }
   ],
   "source": [
    "df = spark.read.json(\"spark_files/zipcode.json\")\n",
    "df.printSchema()\n",
    "df.show()\n"
   ]
  },
  {
   "cell_type": "code",
   "execution_count": 4,
   "metadata": {},
   "outputs": [
    {
     "name": "stdout",
     "output_type": "stream",
     "text": [
      "+-----------+--------------------+----------------+------------+--------------------+--------------------+---------------+--------+------+\n",
      "|productCode|         productName|     productLine|productScale|       productVendor|  productDescription|quantityInStock|buyPrice|  MSRP|\n",
      "+-----------+--------------------+----------------+------------+--------------------+--------------------+---------------+--------+------+\n",
      "|   S10_1678|1969 Harley David...|     Motorcycles|        1:10|     Min Lin Diecast|This replica feat...|           7933|   48.81| 95.70|\n",
      "|   S10_1949|1952 Alpine Renau...|    Classic Cars|        1:10|Classic Metal Cre...|Turnable front wh...|           7305|   98.58|214.30|\n",
      "|   S10_2016|1996 Moto Guzzi 1...|     Motorcycles|        1:10|Highway 66 Mini C...|Official Moto Guz...|           6625|   68.99|118.94|\n",
      "|   S10_4698|2003 Harley-David...|     Motorcycles|        1:10|   Red Start Diecast|Model features, o...|           5582|   91.02|193.66|\n",
      "|   S10_4757| 1972 Alfa Romeo GTA|    Classic Cars|        1:10|Motor City Art Cl...|Features include:...|           3252|   85.68|136.00|\n",
      "|   S10_4962|1962 LanciaA Delt...|    Classic Cars|        1:10| Second Gear Diecast|Features include:...|           6791|  103.42|147.74|\n",
      "|   S12_1099|   1968 Ford Mustang|    Classic Cars|        1:12|Autoart Studio De...|Hood, doors and t...|             68|   95.34|194.57|\n",
      "|   S12_1108|   2001 Ferrari Enzo|    Classic Cars|        1:12| Second Gear Diecast|Turnable front wh...|           3619|   95.59|207.80|\n",
      "|   S12_1666|      1958 Setra Bus|Trucks and Buses|        1:12|Welly Diecast Pro...|Model features 30...|           1579|   77.90|136.67|\n",
      "|   S12_2823|    2002 Suzuki XREO|     Motorcycles|        1:12|Unimax Art Galleries|Official logos an...|           9997|   66.27|150.62|\n",
      "|   S12_3148|  1969 Corvair Monza|    Classic Cars|        1:18|Welly Diecast Pro...|1:18 scale die-ca...|           6906|   89.14|151.08|\n",
      "|   S12_3380|  1968 Dodge Charger|    Classic Cars|        1:12|Welly Diecast Pro...|1:12 scale model ...|           9123|   75.16|117.44|\n",
      "|   S12_3891|    1969 Ford Falcon|    Classic Cars|        1:12| Second Gear Diecast|Turnable front wh...|           1049|   83.05|173.02|\n",
      "|   S12_3990|1970 Plymouth Hem...|    Classic Cars|        1:12| Studio M Art Models|Very detailed 197...|           5663|   31.92| 79.80|\n",
      "|   S12_4473|   1957 Chevy Pickup|Trucks and Buses|        1:12|       Exoto Designs|1:12 scale die-ca...|           6125|   55.70|118.50|\n",
      "|   S12_4675|  1969 Dodge Charger|    Classic Cars|        1:12|Welly Diecast Pro...|Detailed model of...|           7323|   58.73|115.16|\n",
      "|   S18_1097|1940 Ford Pickup ...|Trucks and Buses|        1:18| Studio M Art Models|This model featur...|           2613|   58.33|116.67|\n",
      "|   S18_1129|     1993 Mazda RX-7|    Classic Cars|        1:18|Highway 66 Mini C...|This model featur...|           3975|   83.51|141.54|\n",
      "|   S18_1342|1937 Lincoln Berline|    Vintage Cars|        1:18|Motor City Art Cl...|Features opening ...|           8693|   60.62|102.74|\n",
      "|   S18_1367|1936 Mercedes-Ben...|    Vintage Cars|        1:18| Studio M Art Models|This 1:18 scale r...|           8635|   24.26| 53.91|\n",
      "+-----------+--------------------+----------------+------------+--------------------+--------------------+---------------+--------+------+\n",
      "only showing top 20 rows\n",
      "\n"
     ]
    }
   ],
   "source": [
    "from pyspark.sql import SparkSession\n",
    "spark = SparkSession.builder.appName('spark_sql_connect')\\\n",
    "                            .config(\"spark.jars\", \"./mysql-connector-j-8.0.32.jar\")\\\n",
    "                            .getOrCreate()\n",
    "\n",
    "df = spark.read \\\n",
    "    .jdbc(\"jdbc:mysql://localhost:3306/classicmodels\", \"products\", \\\n",
    "          properties={\"user\": \"root\", \"driver\":\"com.mysql.cj.jdbc.Driver\"})\n",
    "df.show()"
   ]
  },
  {
   "cell_type": "code",
   "execution_count": 5,
   "metadata": {},
   "outputs": [
    {
     "name": "stdout",
     "output_type": "stream",
     "text": [
      "+-----------+----------+------------+-----------+-------+--------------------+--------------+\n",
      "|orderNumber| orderDate|requiredDate|shippedDate| status|            comments|customerNumber|\n",
      "+-----------+----------+------------+-----------+-------+--------------------+--------------+\n",
      "|      10100|2003-01-06|  2003-01-13| 2003-01-10|Shipped|                null|           363|\n",
      "|      10101|2003-01-09|  2003-01-18| 2003-01-11|Shipped|Check on availabi...|           128|\n",
      "|      10102|2003-01-10|  2003-01-18| 2003-01-14|Shipped|                null|           181|\n",
      "|      10103|2003-01-29|  2003-02-07| 2003-02-02|Shipped|                null|           121|\n",
      "|      10104|2003-01-31|  2003-02-09| 2003-02-01|Shipped|                null|           141|\n",
      "|      10105|2003-02-11|  2003-02-21| 2003-02-12|Shipped|                null|           145|\n",
      "|      10106|2003-02-17|  2003-02-24| 2003-02-21|Shipped|                null|           278|\n",
      "|      10107|2003-02-24|  2003-03-03| 2003-02-26|Shipped|Difficult to nego...|           131|\n",
      "|      10108|2003-03-03|  2003-03-12| 2003-03-08|Shipped|                null|           385|\n",
      "|      10109|2003-03-10|  2003-03-19| 2003-03-11|Shipped|Customer requeste...|           486|\n",
      "|      10110|2003-03-18|  2003-03-24| 2003-03-20|Shipped|                null|           187|\n",
      "|      10111|2003-03-25|  2003-03-31| 2003-03-30|Shipped|                null|           129|\n",
      "|      10112|2003-03-24|  2003-04-03| 2003-03-29|Shipped|Customer requeste...|           144|\n",
      "|      10113|2003-03-26|  2003-04-02| 2003-03-27|Shipped|                null|           124|\n",
      "|      10114|2003-04-01|  2003-04-07| 2003-04-02|Shipped|                null|           172|\n",
      "|      10115|2003-04-04|  2003-04-12| 2003-04-07|Shipped|                null|           424|\n",
      "|      10116|2003-04-11|  2003-04-19| 2003-04-13|Shipped|                null|           381|\n",
      "|      10117|2003-04-16|  2003-04-24| 2003-04-17|Shipped|                null|           148|\n",
      "|      10118|2003-04-21|  2003-04-29| 2003-04-26|Shipped|Customer has work...|           216|\n",
      "|      10119|2003-04-28|  2003-05-05| 2003-05-02|Shipped|                null|           382|\n",
      "+-----------+----------+------------+-----------+-------+--------------------+--------------+\n",
      "only showing top 20 rows\n",
      "\n"
     ]
    }
   ],
   "source": [
    "df=spark.read.format(\"jdbc\")\\\n",
    "             .option(\"driver\",\"com.mysql.cj.jdbc.Driver\")\\\n",
    "             .option(\"url\",\"jdbc:mysql://localhost:3306/classicmodels\")\\\n",
    "             .option(\"user\",\"root\")\\\n",
    "             .option(\"dbtable\",\"orders\")\\\n",
    "             .load()\n",
    "df.show()\n"
   ]
  },
  {
   "cell_type": "code",
   "execution_count": null,
   "metadata": {},
   "outputs": [],
   "source": []
  },
  {
   "cell_type": "code",
   "execution_count": 8,
   "metadata": {},
   "outputs": [
    {
     "name": "stdout",
     "output_type": "stream",
     "text": [
      "Defaulting to user installation because normal site-packages is not writeable\n",
      "Collecting mysql-connector-python\n",
      "  Downloading mysql_connector_python-8.0.32-cp39-cp39-macosx_12_0_arm64.whl (4.8 MB)\n",
      "\u001b[2K     \u001b[90m━━━━━━━━━━━━━━━━━━━━━━━━━━━━━━━━━━━━━━━━\u001b[0m \u001b[32m4.8/4.8 MB\u001b[0m \u001b[31m14.0 MB/s\u001b[0m eta \u001b[36m0:00:00\u001b[0ma \u001b[36m0:00:01\u001b[0m\n",
      "\u001b[?25hCollecting protobuf<=3.20.3,>=3.11.0\n",
      "  Downloading protobuf-3.20.3-py2.py3-none-any.whl (162 kB)\n",
      "\u001b[2K     \u001b[90m━━━━━━━━━━━━━━━━━━━━━━━━━━━━━━━━━━━━━━\u001b[0m \u001b[32m162.1/162.1 kB\u001b[0m \u001b[31m20.0 MB/s\u001b[0m eta \u001b[36m0:00:00\u001b[0m\n",
      "\u001b[?25hInstalling collected packages: protobuf, mysql-connector-python\n",
      "Successfully installed mysql-connector-python-8.0.32 protobuf-3.20.3\n",
      "\n",
      "\u001b[1m[\u001b[0m\u001b[34;49mnotice\u001b[0m\u001b[1;39;49m]\u001b[0m\u001b[39;49m A new release of pip available: \u001b[0m\u001b[31;49m22.3.1\u001b[0m\u001b[39;49m -> \u001b[0m\u001b[32;49m23.0\u001b[0m\n",
      "\u001b[1m[\u001b[0m\u001b[34;49mnotice\u001b[0m\u001b[1;39;49m]\u001b[0m\u001b[39;49m To update, run: \u001b[0m\u001b[32;49m/Library/Developer/CommandLineTools/usr/bin/python3 -m pip install --upgrade pip\u001b[0m\n"
     ]
    }
   ],
   "source": [
    "!pip install mysql-connector-python"
   ]
  },
  {
   "cell_type": "code",
   "execution_count": 3,
   "metadata": {},
   "outputs": [],
   "source": [
    "import mysql.connector\n",
    "#spark = SparkSession.builder.master(master).appName(appName).getOrCreate()\n",
    "conn = mysql.connector.connect(host=\"localhost\",\n",
    "                               user=\"root\")"
   ]
  },
  {
   "cell_type": "code",
   "execution_count": 8,
   "metadata": {},
   "outputs": [
    {
     "name": "stdout",
     "output_type": "stream",
     "text": [
      "[('classicmodels',), ('information_schema',), ('mysql',), ('performance_schema',), ('sys',), ('test_db',)]\n"
     ]
    }
   ],
   "source": [
    "cur = conn.cursor()\n",
    "cur.execute(\"show databases;\")\n",
    "dbs = cur.fetchall()\n",
    "print(dbs)\n",
    "conn.close()\n"
   ]
  },
  {
   "cell_type": "code",
   "execution_count": 11,
   "metadata": {},
   "outputs": [
    {
     "name": "stderr",
     "output_type": "stream",
     "text": [
      "/var/folders/b_/g3c_7hwd70j9k5t4lqfhswnh0000gn/T/ipykernel_2553/77378744.py:12: UserWarning: pandas only supports SQLAlchemy connectable (engine/connection) or database string URI or sqlite3 DBAPI2 connection. Other DBAPI2 objects are not tested. Please consider using SQLAlchemy.\n",
      "  pdf = pd.read_sql(query, con=conn)\n",
      "/Users/sae/Library/Python/3.9/lib/python/site-packages/pyspark/sql/pandas/conversion.py:474: FutureWarning: iteritems is deprecated and will be removed in a future version. Use .items instead.\n",
      "  for column, series in pdf.iteritems():\n",
      "/Users/sae/Library/Python/3.9/lib/python/site-packages/pyspark/sql/pandas/conversion.py:486: FutureWarning: iteritems is deprecated and will be removed in a future version. Use .items instead.\n",
      "  for column, series in pdf.iteritems():\n"
     ]
    },
    {
     "name": "stdout",
     "output_type": "stream",
     "text": [
      "+-----------+--------------------+\n",
      "|productCode|         productName|\n",
      "+-----------+--------------------+\n",
      "|   S10_1678|1969 Harley David...|\n",
      "|   S10_1949|1952 Alpine Renau...|\n",
      "|   S10_2016|1996 Moto Guzzi 1...|\n",
      "|   S10_4698|2003 Harley-David...|\n",
      "|   S10_4757| 1972 Alfa Romeo GTA|\n",
      "|   S10_4962|1962 LanciaA Delt...|\n",
      "|   S12_1099|   1968 Ford Mustang|\n",
      "|   S12_1108|   2001 Ferrari Enzo|\n",
      "|   S12_1666|      1958 Setra Bus|\n",
      "|   S12_2823|    2002 Suzuki XREO|\n",
      "|   S12_3148|  1969 Corvair Monza|\n",
      "|   S12_3380|  1968 Dodge Charger|\n",
      "|   S12_3891|    1969 Ford Falcon|\n",
      "|   S12_3990|1970 Plymouth Hem...|\n",
      "|   S12_4473|   1957 Chevy Pickup|\n",
      "|   S12_4675|  1969 Dodge Charger|\n",
      "|   S18_1097|1940 Ford Pickup ...|\n",
      "|   S18_1129|     1993 Mazda RX-7|\n",
      "|   S18_1342|1937 Lincoln Berline|\n",
      "|   S18_1367|1936 Mercedes-Ben...|\n",
      "+-----------+--------------------+\n",
      "only showing top 20 rows\n",
      "\n"
     ]
    },
    {
     "name": "stderr",
     "output_type": "stream",
     "text": [
      "                                                                                \r"
     ]
    }
   ],
   "source": [
    "appName = \"PySpark+mysql.connector\"\n",
    "master = \"local\"\n",
    "\n",
    "spark = SparkSession.builder.master(master).appName(appName).getOrCreate()\n",
    "\n",
    "# Establish a connection\n",
    "conn = mysql.connector.connect(user='root', database='classicmodels',\n",
    "                               host=\"localhost\")\n",
    "cursor = conn.cursor()\n",
    "query = \"SELECT productCode, productName FROM products\"\n",
    "# Create a pandas dataframe\n",
    "pdf = pd.read_sql(query, con=conn)\n",
    "conn.close()\n",
    "\n",
    "# Convert Pandas dataframe to spark DataFrame\n",
    "df = spark.createDataFrame(pdf)\n",
    "\n",
    "df.show()"
   ]
  },
  {
   "cell_type": "code",
   "execution_count": 6,
   "metadata": {},
   "outputs": [
    {
     "name": "stdout",
     "output_type": "stream",
     "text": [
      "23/02/09 23:10:55 WARN SparkSession: Using an existing Spark session; only runtime SQL configurations will take effect.\n"
     ]
    }
   ],
   "source": [
    "spark = SparkSession.builder.master(\"local[*]\").appName(\"Test SQL app\").getOrCreate()"
   ]
  },
  {
   "cell_type": "code",
   "execution_count": 43,
   "metadata": {},
   "outputs": [],
   "source": [
    "df=spark.read.format(\"jdbc\").options(driver=\"com.mysql.cj.jdbc.Driver\",\\\n",
    "                                     user=\"root\",\\\n",
    "                                     url=\"jdbc:mysql://localhost:3306/classicmodels\",\\\n",
    "                                     dbtable=\"classicmodels.orders\").load()\n"
   ]
  },
  {
   "cell_type": "code",
   "execution_count": 44,
   "metadata": {},
   "outputs": [
    {
     "data": {
      "text/plain": [
       "326"
      ]
     },
     "execution_count": 44,
     "metadata": {},
     "output_type": "execute_result"
    }
   ],
   "source": [
    " # return number of rows\n",
    "df.count()"
   ]
  },
  {
   "cell_type": "code",
   "execution_count": 45,
   "metadata": {},
   "outputs": [
    {
     "name": "stdout",
     "output_type": "stream",
     "text": [
      "root\n",
      " |-- orderNumber: integer (nullable = true)\n",
      " |-- orderDate: date (nullable = true)\n",
      " |-- requiredDate: date (nullable = true)\n",
      " |-- shippedDate: date (nullable = true)\n",
      " |-- status: string (nullable = true)\n",
      " |-- comments: string (nullable = true)\n",
      " |-- customerNumber: integer (nullable = true)\n",
      "\n"
     ]
    }
   ],
   "source": [
    "df.printSchema()"
   ]
  },
  {
   "cell_type": "code",
   "execution_count": 11,
   "metadata": {},
   "outputs": [
    {
     "name": "stdout",
     "output_type": "stream",
     "text": [
      "+-----------+----------+------------+-----------+-------+--------------------+--------------+\n",
      "|orderNumber| orderDate|requiredDate|shippedDate| status|            comments|customerNumber|\n",
      "+-----------+----------+------------+-----------+-------+--------------------+--------------+\n",
      "|      10112|2003-03-24|  2003-04-03| 2003-03-29|Shipped|Customer requeste...|           144|\n",
      "|      10320|2004-11-03|  2004-11-13| 2004-11-07|Shipped|                null|           144|\n",
      "|      10326|2004-11-09|  2004-11-16| 2004-11-10|Shipped|                null|           144|\n",
      "|      10334|2004-11-19|  2004-11-28|       null|On Hold|The outstaniding ...|           144|\n",
      "+-----------+----------+------------+-----------+-------+--------------------+--------------+\n",
      "\n"
     ]
    }
   ],
   "source": [
    "# Read with custom query:\n",
    "query=\"(select * from orders where customerNumber = 144) as cust\"\n",
    "\n",
    "df=spark.read.format(\"jdbc\").options(driver=\"com.mysql.cj.jdbc.Driver\",\\\n",
    "                                     user=\"root\",\\\n",
    "                                     url=\"jdbc:mysql://localhost:3306/classicmodels\",\\\n",
    "                                     dbtable=query).load()\n",
    "df.show()\n"
   ]
  },
  {
   "cell_type": "code",
   "execution_count": 46,
   "metadata": {},
   "outputs": [
    {
     "name": "stdout",
     "output_type": "stream",
     "text": [
      "+-----------+----------+------------+-----------+-------+--------------------+--------------+\n",
      "|orderNumber| orderDate|requiredDate|shippedDate| status|            comments|customerNumber|\n",
      "+-----------+----------+------------+-----------+-------+--------------------+--------------+\n",
      "|      10101|2003-01-09|  2003-01-18| 2003-01-11|Shipped|Check on availabi...|           128|\n",
      "|      10230|2004-03-15|  2004-03-24| 2004-03-20|Shipped|Customer very con...|           128|\n",
      "|      10300|2003-10-04|  2003-10-13| 2003-10-09|Shipped|                null|           128|\n",
      "|      10323|2004-11-05|  2004-11-12| 2004-11-09|Shipped|                null|           128|\n",
      "|      10112|2003-03-24|  2003-04-03| 2003-03-29|Shipped|Customer requeste...|           144|\n",
      "|      10320|2004-11-03|  2004-11-13| 2004-11-07|Shipped|                null|           144|\n",
      "|      10326|2004-11-09|  2004-11-16| 2004-11-10|Shipped|                null|           144|\n",
      "|      10334|2004-11-19|  2004-11-28|       null|On Hold|The outstaniding ...|           144|\n",
      "+-----------+----------+------------+-----------+-------+--------------------+--------------+\n",
      "\n"
     ]
    }
   ],
   "source": [
    "# Read with custom query:\n",
    "query=\"(select * from orders where customerNumber = 144 or customerNumber = 128) as cust\"\n",
    "\n",
    "df=spark.read.format(\"jdbc\").options(driver=\"com.mysql.cj.jdbc.Driver\",\\\n",
    "                                     user=\"root\",\\\n",
    "                                     url=\"jdbc:mysql://localhost:3306/classicmodels\",\\\n",
    "                                     dbtable=query \\\n",
    "                                    ).load()\n",
    "df.show()\n",
    "\n"
   ]
  },
  {
   "cell_type": "code",
   "execution_count": 13,
   "metadata": {},
   "outputs": [
    {
     "name": "stdout",
     "output_type": "stream",
     "text": [
      "== Physical Plan ==\n",
      "*(1) Scan JDBCRelation((select * from orders where customerNumber = 144 or customerNumber = 128) as cust) [numPartitions=1] [orderNumber#415,orderDate#416,requiredDate#417,shippedDate#418,status#419,comments#420,customerNumber#421] PushedFilters: [], ReadSchema: struct<orderNumber:int,orderDate:date,requiredDate:date,shippedDate:date,status:string,comments:s...\n",
      "\n",
      "\n"
     ]
    },
    {
     "name": "stdout",
     "output_type": "stream",
     "text": [
      "23/02/10 06:09:48 WARN HeartbeatReceiver: Removing executor driver with no recent heartbeats: 971430 ms exceeds timeout 120000 ms\n",
      "23/02/10 06:09:48 WARN SparkContext: Killing executors is not supported by current scheduler.\n"
     ]
    }
   ],
   "source": [
    "df.explain()"
   ]
  },
  {
   "cell_type": "code",
   "execution_count": 15,
   "metadata": {},
   "outputs": [
    {
     "data": {
      "text/plain": [
       "[Row(MLS=132842, Location='Arroyo Grande', Price=795000.0, Bedrooms=3, Bathrooms=3, Size=2371, Price SQ Ft=335.3, Status='Short Sale'),\n",
       " Row(MLS=134364, Location='Paso Robles', Price=399000.0, Bedrooms=4, Bathrooms=3, Size=2818, Price SQ Ft=141.59, Status='Short Sale'),\n",
       " Row(MLS=135141, Location='Paso Robles', Price=545000.0, Bedrooms=4, Bathrooms=3, Size=3032, Price SQ Ft=179.75, Status='Short Sale')]"
      ]
     },
     "execution_count": 15,
     "metadata": {},
     "output_type": "execute_result"
    }
   ],
   "source": [
    "# withColumn:\n",
    "df = spark.read.load(\"spark_files/RealEstate.csv\", format=\"csv\", header = True,inferSchema = True)\n",
    "df.head(3)"
   ]
  },
  {
   "cell_type": "code",
   "execution_count": 18,
   "metadata": {},
   "outputs": [],
   "source": [
    "df = df.withColumn(\"PriceAfterService\", df.Price+ 1000)\n"
   ]
  },
  {
   "cell_type": "code",
   "execution_count": 19,
   "metadata": {},
   "outputs": [
    {
     "data": {
      "text/plain": [
       "['MLS',\n",
       " 'Location',\n",
       " 'Price',\n",
       " 'Bedrooms',\n",
       " 'Bathrooms',\n",
       " 'Size',\n",
       " 'Price SQ Ft',\n",
       " 'Status',\n",
       " 'PriceAfterService']"
      ]
     },
     "execution_count": 19,
     "metadata": {},
     "output_type": "execute_result"
    }
   ],
   "source": [
    "df.columns"
   ]
  },
  {
   "cell_type": "code",
   "execution_count": 20,
   "metadata": {},
   "outputs": [
    {
     "name": "stdout",
     "output_type": "stream",
     "text": [
      "+------+------------------+--------+--------+---------+----+-----------+----------+-----------------+\n",
      "|   MLS|          Location|   Price|Bedrooms|Bathrooms|Size|Price SQ Ft|    Status|PriceAfterService|\n",
      "+------+------------------+--------+--------+---------+----+-----------+----------+-----------------+\n",
      "|132842|     Arroyo Grande|795000.0|       3|        3|2371|      335.3|Short Sale|         796000.0|\n",
      "|134364|       Paso Robles|399000.0|       4|        3|2818|     141.59|Short Sale|         400000.0|\n",
      "|135141|       Paso Robles|545000.0|       4|        3|3032|     179.75|Short Sale|         546000.0|\n",
      "|135712|         Morro Bay|909000.0|       4|        4|3540|     256.78|Short Sale|         910000.0|\n",
      "|136282|Santa Maria-Orcutt|109900.0|       3|        1|1249|      87.99|Short Sale|         110900.0|\n",
      "|136431|            Oceano|324900.0|       3|        3|1800|      180.5|Short Sale|         325900.0|\n",
      "|137036|Santa Maria-Orcutt|192900.0|       4|        2|1603|     120.34|Short Sale|         193900.0|\n",
      "|137090|Santa Maria-Orcutt|215000.0|       3|        2|1450|     148.28|Short Sale|         216000.0|\n",
      "+------+------------------+--------+--------+---------+----+-----------+----------+-----------------+\n",
      "only showing top 8 rows\n",
      "\n"
     ]
    }
   ],
   "source": [
    "df.show(8)"
   ]
  },
  {
   "cell_type": "code",
   "execution_count": 21,
   "metadata": {},
   "outputs": [
    {
     "name": "stdout",
     "output_type": "stream",
     "text": [
      "+------------------+---------+----------+\n",
      "|          Location|    Price|    Status|\n",
      "+------------------+---------+----------+\n",
      "|     Arroyo Grande| 795000.0|Short Sale|\n",
      "|       Paso Robles| 399000.0|Short Sale|\n",
      "|       Paso Robles| 545000.0|Short Sale|\n",
      "|         Morro Bay| 909000.0|Short Sale|\n",
      "|Santa Maria-Orcutt| 109900.0|Short Sale|\n",
      "|            Oceano| 324900.0|Short Sale|\n",
      "|Santa Maria-Orcutt| 192900.0|Short Sale|\n",
      "|Santa Maria-Orcutt| 215000.0|Short Sale|\n",
      "|         Morro Bay| 999000.0|Short Sale|\n",
      "|        Atascadero| 319000.0|Short Sale|\n",
      "|Santa Maria-Orcutt| 350000.0|Short Sale|\n",
      "|Santa Maria-Orcutt| 249000.0|Short Sale|\n",
      "|     Arroyo Grande| 299000.0|Short Sale|\n",
      "|Santa Maria-Orcutt| 235900.0|Short Sale|\n",
      "|Santa Maria-Orcutt| 348000.0|Short Sale|\n",
      "|       Paso Robles| 314000.0|Short Sale|\n",
      "|        Los Alamos| 399000.0|Short Sale|\n",
      "|        San Miguel| 599000.0|Short Sale|\n",
      "|       Paso Robles| 299000.0|Short Sale|\n",
      "|   San Luis Obispo| 425000.0|Short Sale|\n",
      "|         Morro Bay|1100000.0|Short Sale|\n",
      "|           Cayucos|1500000.0|Short Sale|\n",
      "|Santa Maria-Orcutt| 110000.0|Short Sale|\n",
      "|Santa Maria-Orcutt| 200000.0|Short Sale|\n",
      "|Santa Maria-Orcutt| 134900.0|Short Sale|\n",
      "|Santa Maria-Orcutt| 250000.0|Short Sale|\n",
      "|       Pismo Beach| 950000.0|Short Sale|\n",
      "|Santa Maria-Orcutt| 239950.0|Short Sale|\n",
      "|Santa Maria-Orcutt| 170000.0|Short Sale|\n",
      "|Santa Maria-Orcutt| 285000.0|Short Sale|\n",
      "+------------------+---------+----------+\n",
      "only showing top 30 rows\n",
      "\n"
     ]
    }
   ],
   "source": [
    "#SELECT select columns from df:\n",
    "df.select(\"Location\", \"Price\", \"Status\").show(30)"
   ]
  },
  {
   "cell_type": "code",
   "execution_count": 24,
   "metadata": {},
   "outputs": [
    {
     "name": "stdout",
     "output_type": "stream",
     "text": [
      "+--------------------+----+---------+------------+----------+------+------------+-----+------+--------+-------+\n",
      "|                 Car| MPG|Cylinders|Displacement|Horsepower|Weight|Acceleration|Model|Origin|quantity|   city|\n",
      "+--------------------+----+---------+------------+----------+------+------------+-----+------+--------+-------+\n",
      "|AMC Ambassador Br...|13.0|        8|       360.0|       175|  3821|        11.0|   73|    US|      25|NewYork|\n",
      "|  AMC Ambassador DPL|15.0|        8|       390.0|       190|  3850|         8.5|   70|    US|       2|     NJ|\n",
      "|  AMC Ambassador SST|17.0|        8|       304.0|       150|  3672|        11.5|   72|    US|       4| DALLAS|\n",
      "+--------------------+----+---------+------------+----------+------+------------+-----+------+--------+-------+\n",
      "only showing top 3 rows\n",
      "\n",
      "+------+----------+\n",
      "|Weight|Horsepower|\n",
      "+------+----------+\n",
      "|  3821|       175|\n",
      "|  3850|       190|\n",
      "+------+----------+\n",
      "only showing top 2 rows\n",
      "\n"
     ]
    }
   ],
   "source": [
    "cardf = spark.read.load(\"spark_files/cars.csv\", format=\"csv\", header = True,inferSchema = True)\n",
    "cardf.show(3)\n",
    "cardf[[\"Weight\", \"Horsepower\"]].show(2)"
   ]
  },
  {
   "cell_type": "code",
   "execution_count": 30,
   "metadata": {},
   "outputs": [
    {
     "name": "stdout",
     "output_type": "stream",
     "text": [
      "+--------------------+----+---------+------------+----------+------+------------+-----+------+--------+-------+------------------+\n",
      "|                 Car| MPG|Cylinders|Displacement|Horsepower|Weight|Acceleration|Model|Origin|quantity|   city|          hw_ratio|\n",
      "+--------------------+----+---------+------------+----------+------+------------+-----+------+--------+-------+------------------+\n",
      "|AMC Ambassador Br...|13.0|        8|       360.0|       175|  3821|        11.0|   73|    US|      25|NewYork|21.834285714285713|\n",
      "|  AMC Ambassador DPL|15.0|        8|       390.0|       190|  3850|         8.5|   70|    US|       2|     NJ|20.263157894736842|\n",
      "|  AMC Ambassador SST|17.0|        8|       304.0|       150|  3672|        11.5|   72|    US|       4| DALLAS|             24.48|\n",
      "+--------------------+----+---------+------------+----------+------+------------+-----+------+--------+-------+------------------+\n",
      "only showing top 3 rows\n",
      "\n"
     ]
    }
   ],
   "source": [
    "# select with withcolumn\n",
    "cardf.withColumn(\"hw_ratio\", cardf[\"Weight\"]/cardf[\"Horsepower\"]).show(3)"
   ]
  },
  {
   "cell_type": "code",
   "execution_count": 31,
   "metadata": {},
   "outputs": [],
   "source": [
    "from pyspark.sql.functions import mean,avg,max,min\n",
    "from pyspark.sql.functions import round as round_"
   ]
  },
  {
   "cell_type": "code",
   "execution_count": 32,
   "metadata": {},
   "outputs": [
    {
     "name": "stdout",
     "output_type": "stream",
     "text": [
      "+----------------------+\n",
      "|round(Acceleration, 0)|\n",
      "+----------------------+\n",
      "|                  11.0|\n",
      "|                   9.0|\n",
      "+----------------------+\n",
      "only showing top 2 rows\n",
      "\n"
     ]
    }
   ],
   "source": [
    "cardf.select(round_(\"Acceleration\")).show(2)"
   ]
  },
  {
   "cell_type": "code",
   "execution_count": 33,
   "metadata": {},
   "outputs": [
    {
     "name": "stdout",
     "output_type": "stream",
     "text": [
      "root\n",
      " |-- Car: string (nullable = true)\n",
      " |-- MPG: double (nullable = true)\n",
      " |-- Cylinders: integer (nullable = true)\n",
      " |-- Displacement: double (nullable = true)\n",
      " |-- Horsepower: integer (nullable = true)\n",
      " |-- Weight: integer (nullable = true)\n",
      " |-- Acceleration: double (nullable = true)\n",
      " |-- Model: integer (nullable = true)\n",
      " |-- Origin: string (nullable = true)\n",
      " |-- quantity: integer (nullable = true)\n",
      " |-- city: string (nullable = true)\n",
      "\n"
     ]
    }
   ],
   "source": [
    "cardf.printSchema()"
   ]
  },
  {
   "cell_type": "code",
   "execution_count": 34,
   "metadata": {},
   "outputs": [
    {
     "name": "stdout",
     "output_type": "stream",
     "text": [
      "+-------------+-------------+\n",
      "|max(quantity)|min(quantity)|\n",
      "+-------------+-------------+\n",
      "|        75275|            2|\n",
      "+-------------+-------------+\n",
      "\n"
     ]
    }
   ],
   "source": [
    "cardf.select(max(\"quantity\"),min(\"quantity\")).show()"
   ]
  },
  {
   "cell_type": "code",
   "execution_count": 35,
   "metadata": {},
   "outputs": [
    {
     "name": "stdout",
     "output_type": "stream",
     "text": [
      "+-------------------+-------+\n",
      "|           Location|  Price|\n",
      "+-------------------+-------+\n",
      "| Santa Maria-Orcutt|29000.0|\n",
      "|         New Cuyama|40900.0|\n",
      "| Santa Maria-Orcutt|36000.0|\n",
      "| Santa Maria-Orcutt|26500.0|\n",
      "+-------------------+-------+\n",
      "\n"
     ]
    }
   ],
   "source": [
    "# Reading the Dataset\n",
    "df = spark.read.load(\"spark_files/RealEstate.csv\", format=\"csv\", header = True,inferSchema = True)\n",
    "\n",
    "df.select('Location','Price').filter(df['Price'] < 50000).show ()"
   ]
  },
  {
   "cell_type": "code",
   "execution_count": 36,
   "metadata": {},
   "outputs": [
    {
     "name": "stdout",
     "output_type": "stream",
     "text": [
      "+-------------------+---------+\n",
      "|           Location|    Price|\n",
      "+-------------------+---------+\n",
      "|      Arroyo Grande|5499000.0|\n",
      "|            Cambria|2995000.0|\n",
      "|    San Luis Obispo|2369000.0|\n",
      "|            Cambria|2000000.0|\n",
      "|        Avila Beach|1999000.0|\n",
      "|      Arroyo Grande|1900000.0|\n",
      "|        Pismo Beach|1799000.0|\n",
      "|             Nipomo|1700000.0|\n",
      "|            Bradley|1600000.0|\n",
      "|            Cayucos|1500000.0|\n",
      "|      Arroyo Grande|1499000.0|\n",
      "|    San Luis Obispo|1490000.0|\n",
      "|             Nipomo|1399900.0|\n",
      "|          Templeton|1399000.0|\n",
      "|         Santa Ynez|1395000.0|\n",
      "|           Los Osos|1350000.0|\n",
      "|            Cambria|1290000.0|\n",
      "|             Oceano|1250000.0|\n",
      "|           Los Osos|1249000.0|\n",
      "|      Arroyo Grande|1249000.0|\n",
      "|        Out Of Area|1195000.0|\n",
      "|             Oceano|1195000.0|\n",
      "|          Templeton|1150000.0|\n",
      "|            Cambria|1100000.0|\n",
      "|          Morro Bay|1100000.0|\n",
      "|        Pismo Beach|1100000.0|\n",
      "|             Nipomo|1065000.0|\n",
      "|          Morro Bay|1045000.0|\n",
      "|       Grover Beach| 999000.0|\n",
      "|         Santa Ynez| 999000.0|\n",
      "|          Morro Bay| 999000.0|\n",
      "|            Cambria| 995000.0|\n",
      "|         Atascadero| 995000.0|\n",
      "|      Arroyo Grande| 995000.0|\n",
      "|          Morro Bay| 982800.0|\n",
      "|      Arroyo Grande| 975000.0|\n",
      "|        Pismo Beach| 950000.0|\n",
      "|         Atascadero| 949000.0|\n",
      "|        Pismo Beach| 920000.0|\n",
      "|          Morro Bay| 909000.0|\n",
      "|         Atascadero| 900000.0|\n",
      "|          Morro Bay| 899000.0|\n",
      "|        Pismo Beach| 899000.0|\n",
      "|          Templeton| 899000.0|\n",
      "|         Atascadero| 895000.0|\n",
      "|    San Luis Obispo| 890000.0|\n",
      "|         Atascadero| 890000.0|\n",
      "|             Nipomo| 879000.0|\n",
      "|        Pismo Beach| 875000.0|\n",
      "|         Atascadero| 865000.0|\n",
      "|            Cambria| 865000.0|\n",
      "| Santa Maria-Orcutt| 850000.0|\n",
      "|         Atascadero| 850000.0|\n",
      "|      Arroyo Grande| 850000.0|\n",
      "|      Arroyo Grande| 849900.0|\n",
      "|        Pismo Beach| 849500.0|\n",
      "|        Avila Beach| 839000.0|\n",
      "|         Atascadero| 830000.0|\n",
      "|         Atascadero| 829900.0|\n",
      "|            Cambria| 825000.0|\n",
      "|         Atascadero| 820000.0|\n",
      "|         Atascadero| 810000.0|\n",
      "|          Templeton| 799000.0|\n",
      "|        Pismo Beach| 795000.0|\n",
      "|      Arroyo Grande| 795000.0|\n",
      "|         Santa Ynez| 795000.0|\n",
      "|          Morro Bay| 789000.0|\n",
      "|             Oceano| 789000.0|\n",
      "|           Los Osos| 779000.0|\n",
      "|        Avila Beach| 779000.0|\n",
      "|          Templeton| 774800.0|\n",
      "|          Morro Bay| 774000.0|\n",
      "| Santa Maria-Orcutt| 751900.0|\n",
      "|         Atascadero| 750000.0|\n",
      "|      Arroyo Grande| 749000.0|\n",
      "|           Los Osos| 729000.0|\n",
      "|            Cambria| 729000.0|\n",
      "|         San Miguel| 720000.0|\n",
      "| Santa Maria-Orcutt| 699900.0|\n",
      "|            Cambria| 699900.0|\n",
      "|             Nipomo| 699000.0|\n",
      "|         Atascadero| 699000.0|\n",
      "|        Paso Robles| 695000.0|\n",
      "|            Cayucos| 695000.0|\n",
      "|         Santa Ynez| 695000.0|\n",
      "|         Atascadero| 669000.0|\n",
      "|          Morro Bay| 652000.0|\n",
      "|            Cambria| 650000.0|\n",
      "|           Los Osos| 650000.0|\n",
      "|             Nipomo| 650000.0|\n",
      "|             Nipomo| 649000.0|\n",
      "|           Los Osos| 648000.0|\n",
      "|           Buellton| 645000.0|\n",
      "| Santa Maria-Orcutt| 641900.0|\n",
      "|         Atascadero| 640000.0|\n",
      "|        Pismo Beach| 639900.0|\n",
      "|           Los Osos| 625000.0|\n",
      "|          Templeton| 625000.0|\n",
      "|        Pismo Beach| 604995.0|\n",
      "|        Paso Robles| 599900.0|\n",
      "+-------------------+---------+\n",
      "only showing top 100 rows\n",
      "\n"
     ]
    }
   ],
   "source": [
    "# sort is expensive:\n",
    "df.select(\"Location\", \"Price\").sort(df[\"Price\"].desc()).show(100)"
   ]
  },
  {
   "cell_type": "code",
   "execution_count": 38,
   "metadata": {},
   "outputs": [
    {
     "name": "stdout",
     "output_type": "stream",
     "text": [
      "+-----------+-----------------+\n",
      "|   Location|       avg(Price)|\n",
      "+-----------+-----------------+\n",
      "|Pismo Beach|772374.5833333334|\n",
      "|  King City|         131190.0|\n",
      "| New Cuyama|          40900.0|\n",
      "+-----------+-----------------+\n",
      "only showing top 3 rows\n",
      "\n"
     ]
    }
   ],
   "source": [
    "df.select(\"Location\", \"Price\").groupby(\"Location\").avg().show(3)"
   ]
  },
  {
   "cell_type": "code",
   "execution_count": 40,
   "metadata": {},
   "outputs": [
    {
     "name": "stdout",
     "output_type": "stream",
     "text": [
      "+------------------+----------+-------------------------+\n",
      "|          Location|    Status|Status LIKE %Foreclosure%|\n",
      "+------------------+----------+-------------------------+\n",
      "|     Arroyo Grande|Short Sale|                    false|\n",
      "|       Paso Robles|Short Sale|                    false|\n",
      "|       Paso Robles|Short Sale|                    false|\n",
      "|         Morro Bay|Short Sale|                    false|\n",
      "|Santa Maria-Orcutt|Short Sale|                    false|\n",
      "|            Oceano|Short Sale|                    false|\n",
      "|Santa Maria-Orcutt|Short Sale|                    false|\n",
      "|Santa Maria-Orcutt|Short Sale|                    false|\n",
      "|         Morro Bay|Short Sale|                    false|\n",
      "|        Atascadero|Short Sale|                    false|\n",
      "+------------------+----------+-------------------------+\n",
      "only showing top 10 rows\n",
      "\n"
     ]
    }
   ],
   "source": [
    "df.select(\"Location\", \"Status\", df.Status.like(\"%Foreclosure%\")).show(10)"
   ]
  },
  {
   "attachments": {},
   "cell_type": "markdown",
   "metadata": {},
   "source": [
    "### SQL querries"
   ]
  },
  {
   "cell_type": "code",
   "execution_count": 41,
   "metadata": {},
   "outputs": [
    {
     "name": "stdout",
     "output_type": "stream",
     "text": [
      "+--------+\n",
      "|count(1)|\n",
      "+--------+\n",
      "|       1|\n",
      "+--------+\n",
      "\n"
     ]
    }
   ],
   "source": [
    "\n",
    "zipdf = spark.read.json(\"spark_files/zipcode1.json\")\n",
    "zipdf.createTempView(\"ziptable1\")\n",
    "spark.sql(\"SELECT count(*) from ziptable1\").show()\n",
    "#alternate spark.sql(\"SELECT count(*) from ziptable1\")\n"
   ]
  },
  {
   "cell_type": "code",
   "execution_count": 53,
   "metadata": {},
   "outputs": [
    {
     "name": "stdout",
     "output_type": "stream",
     "text": [
      "+-----------+----------+------------+-----------+-------+--------------------+--------------+\n",
      "|orderNumber| orderDate|requiredDate|shippedDate| status|            comments|customerNumber|\n",
      "+-----------+----------+------------+-----------+-------+--------------------+--------------+\n",
      "|      10112|2003-03-24|  2003-04-03| 2003-03-29|Shipped|Customer requeste...|           144|\n",
      "|      10320|2004-11-03|  2004-11-13| 2004-11-07|Shipped|                null|           144|\n",
      "|      10326|2004-11-09|  2004-11-16| 2004-11-10|Shipped|                null|           144|\n",
      "|      10334|2004-11-19|  2004-11-28|       null|On Hold|The outstaniding ...|           144|\n",
      "+-----------+----------+------------+-----------+-------+--------------------+--------------+\n",
      "\n"
     ]
    }
   ],
   "source": [
    "# Read with custom query:\n",
    "query=\"(select * from orders where customerNumber = 144) as cust\"\n",
    "\n",
    "df=spark.read.format(\"jdbc\").options(driver=\"com.mysql.cj.jdbc.Driver\",\\\n",
    "                                     user=\"root\",\\\n",
    "                                     url=\"jdbc:mysql://localhost:3306/classicmodels\",\\\n",
    "                                     dbtable=query).load()\n",
    "df.show()"
   ]
  },
  {
   "cell_type": "code",
   "execution_count": 54,
   "metadata": {},
   "outputs": [
    {
     "name": "stdout",
     "output_type": "stream",
     "text": [
      "root\n",
      " |-- EMPLOYEEID: long (nullable = true)\n",
      " |-- employee_name: string (nullable = true)\n",
      " |-- department: string (nullable = true)\n",
      " |-- state: string (nullable = true)\n",
      " |-- salary: long (nullable = true)\n",
      "\n"
     ]
    }
   ],
   "source": [
    "# -- initializing data ---\n",
    "simpleData = [(1,\"James\",\"Sales\",\"NY\",90000), \\\n",
    "    (2,\"Michael\",\"Sales\",\"NY\",86000), \\\n",
    "    (3,\"Robert\",\"Sales\",\"CA\",81000), \\\n",
    "    (4,\"Maria\",\"Finance\",\"CA\",90000)]\n",
    "#---- Declare schema for data-----\n",
    "columns = [\"EMPLOYEEID\",\"employee_name\",\"department\",\"state\",\"salary\"]\n",
    "\n",
    "# --- Creating data frame Using createDataFrame() function-----\n",
    "df = spark.createDataFrame(data = simpleData, schema = columns)\n",
    "df.printSchema()"
   ]
  },
  {
   "cell_type": "code",
   "execution_count": 66,
   "metadata": {},
   "outputs": [
    {
     "name": "stderr",
     "output_type": "stream",
     "text": [
      "                                                                                \r"
     ]
    }
   ],
   "source": [
    "#----  save the dataframe to the MySQL table-----\n",
    "df.write.format(\"jdbc\") \\\n",
    "  .mode(\"append\") \\\n",
    "  .option(\"url\", \"jdbc:mysql://localhost:3306/classicmodels\") \\\n",
    "  .option(\"dbtable\", \"classicmodels.Employees_forSparkDemo\") \\\n",
    "  .option(\"user\", \"root\") \\\n",
    "  .option(\"driver\", \"com.mysql.cj.jdbc.Driver\")\\\n",
    "  .option(\"password\", \"\").save()\n",
    "  #.option(\"password\", \"password\") \\\n",
    "  #.save()"
   ]
  },
  {
   "cell_type": "code",
   "execution_count": 68,
   "metadata": {},
   "outputs": [
    {
     "name": "stdout",
     "output_type": "stream",
     "text": [
      "root\n",
      " |-- employeeNumber: integer (nullable = true)\n",
      " |-- lastName: string (nullable = true)\n",
      " |-- firstName: string (nullable = true)\n",
      " |-- extension: string (nullable = true)\n",
      " |-- email: string (nullable = true)\n",
      " |-- officeCode: integer (nullable = true)\n",
      " |-- reportsTo: integer (nullable = true)\n",
      " |-- jobTitle: string (nullable = true)\n",
      "\n",
      "root\n",
      " |-- employeeNumber: integer (nullable = true)\n",
      " |-- lastName: string (nullable = true)\n",
      " |-- firstName: string (nullable = true)\n",
      " |-- extension: string (nullable = true)\n",
      " |-- email: string (nullable = true)\n",
      " |-- officeCode: integer (nullable = true)\n",
      " |-- reportsTo: integer (nullable = true)\n",
      " |-- jobTitle: string (nullable = true)\n",
      "\n",
      "+--------------+---------+---------+--------------------+----------+--------------------+-----+\n",
      "|employeeNumber|firstName| lastName|            jobTitle|officeCode|        addressLine1|state|\n",
      "+--------------+---------+---------+--------------------+----------+--------------------+-----+\n",
      "|          1002|    Diane|   Murphy|           President|         1|   100 Market Street|   CA|\n",
      "|          1056|     Mary|Patterson|            VP Sales|         1|   100 Market Street|   CA|\n",
      "|          1076|     Jeff| Firrelli|        VP Marketing|         1|   100 Market Street|   CA|\n",
      "|          1088|  William|Patterson|Sales Manager (APAC)|         6|5-11 Wentworth Av...| NULL|\n",
      "|          1102|   Gerard|   Bondur| Sale Manager (EMEA)|         4|     43 Rue Jouffroy|   NY|\n",
      "|          1143|  Anthony|      Bow|  Sales Manager (NA)|         1|   100 Market Street|   CA|\n",
      "|          1165|   Leslie| Jennings|           Sales Rep|         1|   100 Market Street|   CA|\n",
      "|          1166|   Leslie| Thompson|           Sales Rep|         1|   100 Market Street|   CA|\n",
      "|          1188|    Julie| Firrelli|           Sales Rep|         2|    1550 Court Place|   MA|\n",
      "|          1216|    Steve|Patterson|           Sales Rep|         2|    1550 Court Place|   MA|\n",
      "+--------------+---------+---------+--------------------+----------+--------------------+-----+\n",
      "only showing top 10 rows\n",
      "\n"
     ]
    }
   ],
   "source": [
    "empdf = spark.read.load(\"spark_files/employee.csv\", format=\"csv\", header = True,inferSchema = True)\n",
    "empdf.printSchema()\n",
    "\n",
    "officedf = spark.read.load(\"spark_files/officecode.csv\", format=\"csv\", header = True  ,inferSchema = True)\n",
    "empdf.printSchema()\n",
    "\n",
    "empdf.createTempView(\"employee_table\")\n",
    "officedf.createTempView(\"office_table\")\n",
    "\n",
    "spark.sql(\"SELECT employee_table.employeeNumber, employee_table.firstName,employee_table.lastName,jobTitle, employee_table.officeCode, \\\n",
    "office_table.addressLine1, office_table.state  FROM employee_table \\\n",
    "join office_table ON office_table.officeCode = employee_table.officeCode\").show(10)"
   ]
  },
  {
   "cell_type": "code",
   "execution_count": 69,
   "metadata": {},
   "outputs": [
    {
     "name": "stdout",
     "output_type": "stream",
     "text": [
      "root\n",
      " |-- Car: string (nullable = true)\n",
      " |-- MPG: double (nullable = true)\n",
      " |-- Cylinders: integer (nullable = true)\n",
      " |-- Displacement: double (nullable = true)\n",
      " |-- Horsepower: integer (nullable = true)\n",
      " |-- Weight: integer (nullable = true)\n",
      " |-- Acceleration: double (nullable = true)\n",
      " |-- Model: integer (nullable = true)\n",
      " |-- Origin: string (nullable = true)\n",
      " |-- quantity: integer (nullable = true)\n",
      " |-- city: string (nullable = true)\n",
      "\n"
     ]
    }
   ],
   "source": [
    "cardf = spark.read.load(\"spark_files/cars.csv\", format=\"csv\", header = True,inferSchema = True)\n",
    "#the above line will return data in a Dataframe\n",
    "\n",
    "cardf.printSchema()\n"
   ]
  },
  {
   "cell_type": "code",
   "execution_count": 70,
   "metadata": {},
   "outputs": [
    {
     "name": "stdout",
     "output_type": "stream",
     "text": [
      "+--------------------+----+---------+------------+----------+------+------------+-----+------+--------+-------+\n",
      "|                 Car| MPG|Cylinders|Displacement|Horsepower|Weight|Acceleration|Model|Origin|quantity|   city|\n",
      "+--------------------+----+---------+------------+----------+------+------------+-----+------+--------+-------+\n",
      "|AMC Ambassador Br...|13.0|        8|       360.0|       175|  3821|        11.0|   73|    US|      25|NewYork|\n",
      "|  AMC Ambassador DPL|15.0|        8|       390.0|       190|  3850|         8.5|   70|    US|       2|     NJ|\n",
      "|  AMC Ambassador SST|17.0|        8|       304.0|       150|  3672|        11.5|   72|    US|       4| DALLAS|\n",
      "|         AMC Concord|19.4|        6|       232.0|        90|  3210|        17.2|   78|    US|      52|  TEXAS|\n",
      "|         AMC Concord|24.3|        4|       151.0|        90|  3003|        20.1|   80|    US|      42|     OH|\n",
      "|     AMC Concord d/l|18.1|        6|       258.0|       120|  3410|        15.1|   78|    US|       4|NewYork|\n",
      "|      AMC Concord DL|23.0|        4|       151.0|         0|  3035|        20.5|   82|    US|      45|     NJ|\n",
      "|    AMC Concord DL 6|20.2|        6|       232.0|        90|  3265|        18.2|   79|    US|     328| DALLAS|\n",
      "|         AMC Gremlin|21.0|        6|       199.0|        90|  2648|        15.0|   70|    US|      68|  TEXAS|\n",
      "|         AMC Gremlin|19.0|        6|       232.0|       100|  2634|        13.0|   71|    US|      78|     OH|\n",
      "|         AMC Gremlin|18.0|        6|       232.0|       100|  2789|        15.0|   73|    US|     152|NewYork|\n",
      "|         AMC Gremlin|20.0|        6|       232.0|       100|  2914|        16.0|   75|    US|     214|     NJ|\n",
      "|          AMC Hornet|18.0|        6|       199.0|        97|  2774|        15.5|   70|    US|      60| DALLAS|\n",
      "|          AMC Hornet|18.0|        6|       232.0|       100|  2945|        16.0|   73|    US|     144|  TEXAS|\n",
      "|          AMC Hornet|19.0|        6|       232.0|       100|  2901|        16.0|   74|    US|     172|     OH|\n",
      "|          AMC Hornet|22.5|        6|       232.0|        90|  3085|        17.6|   76|    US|      28|NewYork|\n",
      "|AMC Hornet Sporta...|18.0|        6|       258.0|       110|  2962|        13.5|   71|    US|      90|     NJ|\n",
      "|         AMC Matador|18.0|        6|       232.0|       100|  3288|        15.5|   71|    US|      82| DALLAS|\n",
      "|         AMC Matador|14.0|        8|       304.0|       150|  3672|        11.5|   73|    US|     131|  TEXAS|\n",
      "|         AMC Matador|16.0|        6|       258.0|       110|  3632|        18.0|   74|    US|     179|NewYork|\n",
      "|         AMC Matador|15.0|        6|       258.0|       110|  3730|        19.0|   75|    US|     207|     NJ|\n",
      "|         AMC Matador|15.5|        8|       304.0|       120|  3962|        13.9|   76|    US|     234| DALLAS|\n",
      "|    AMC Matador (sw)|15.0|        8|       304.0|       150|  3892|        12.5|   72|    US|     117|  TEXAS|\n",
      "|    AMC Matador (sw)|14.0|        8|       304.0|       150|  4257|        15.5|   74|    US|     185|     OH|\n",
      "|           AMC Pacer|19.0|        6|       232.0|        90|  3211|        17.0|   75|    US|     221|NewYork|\n",
      "|       AMC Pacer d/l|17.5|        6|       258.0|        95|  3193|        17.8|   76|    US|      75|     NJ|\n",
      "|       AMC Rebel SST|16.0|        8|       304.0|       150|  3433|        12.0|   70|    US|       4| DALLAS|\n",
      "|  AMC Rebel SST (sw)| 0.0|        8|       360.0|       175|  3850|        11.0|   70|    US|      53|  TEXAS|\n",
      "|       AMC Spirit DL|27.4|        4|       121.0|        80|  2670|        15.0|   79|    US|     575|     OH|\n",
      "|         Audi 100 LS|24.0|        4|       107.0|        90|  2430|        14.5|   70|Europe|      65|NewYork|\n",
      "|          Audi 100LS|20.0|        4|       114.0|        91|  2582|        14.0|   73|Europe|     164|     NJ|\n",
      "|          Audi 100LS|23.0|        4|       115.0|        95|  2694|        15.0|   75|Europe|      45| DALLAS|\n",
      "|           Audi 4000|34.3|        4|        97.0|        78|  2188|        15.8|   80|Europe|     362|  TEXAS|\n",
      "|           Audi 5000|20.3|        5|       131.0|       103|  2830|        15.9|   78|Europe|     319|     OH|\n",
      "| Audi 5000s (diesel)|36.4|        5|       121.0|        67|  2950|        19.9|   80|Europe|     372|NewYork|\n",
      "|            Audi Fox|29.0|        4|        98.0|        83|  2219|        16.5|   74|Europe|     186|     NJ|\n",
      "|            BMW 2002|26.0|        4|       121.0|       113|  2234|        12.5|   70|Europe|      67| DALLAS|\n",
      "|            BMW 320i|21.5|        4|       121.0|       110|  2600|        12.8|   77|Europe|     287|  TEXAS|\n",
      "|       Buick Century|17.0|        6|       231.0|       110|  3907|        21.0|   75|    US|     205|     OH|\n",
      "|       Buick Century|22.4|        6|       231.0|       110|  3415|        15.8|   81|    US|     409|NewYork|\n",
      "|   Buick Century 350|13.0|        8|       350.0|       175|  4100|        13.0|   73|    US|     130|     NJ|\n",
      "|Buick Century Lim...|25.0|        6|       181.0|       110|  2945|        16.4|   82|    US|     432| DALLAS|\n",
      "|Buick Century Lux...|13.0|        8|       350.0|       150|  4699|        14.5|   74|    US|     182|  TEXAS|\n",
      "|Buick Century Spe...|20.6|        6|       231.0|       105|  3380|        15.8|   78|    US|     303|     OH|\n",
      "|Buick Electra 225...|12.0|        8|       455.0|       225|  4951|        11.0|   73|    US|     140|NewYork|\n",
      "|Buick Estate Wago...|14.0|        8|       455.0|       225|  3086|        10.0|   70|    US|      57|     NJ|\n",
      "|Buick Estate Wago...|16.9|        8|       350.0|       155|  4360|        14.9|   79|    US|     334| DALLAS|\n",
      "|Buick LeSabre Custom|13.0|        8|       350.0|       155|  4502|        13.5|   72|    US|     113|  TEXAS|\n",
      "|Buick Opel Isuzu ...|30.0|        4|       111.0|        80|  2155|        14.8|   77|    US|     814|     OH|\n",
      "|Buick Regal Sport...|17.7|        6|       231.0|       165|  3445|        13.4|   78|    US|     308|NewYork|\n",
      "|       Buick Skyhawk|21.0|        6|       231.0|       110|  3039|        15.0|   75|    US|     209|     NJ|\n",
      "|       Buick Skylark|20.5|        6|       231.0|       105|  3425|        16.9|   77|    US|     271| DALLAS|\n",
      "|       Buick Skylark|26.6|        4|       151.0|        84|  2635|        16.4|   81|    US|     384|NewYork|\n",
      "|   Buick Skylark 320|15.0|        8|       350.0|       165|  3693|        11.5|   70|    US|      25|     NJ|\n",
      "|Buick Skylark Lim...|28.4|        4|       151.0|        90|  2670|        16.0|   79|    US|     350| DALLAS|\n",
      "|   Cadillac Eldorado|23.0|        8|       350.0|       125|  3900|        17.4|   79|    US|     343|  TEXAS|\n",
      "|    Cadillac Seville|16.5|        8|       350.0|       180|  4380|        12.1|   76|    US|      28|     OH|\n",
      "|            Capri ii|25.0|        4|       140.0|        92|  2572|        14.9|   76|    US|     229|NewYork|\n",
      "|   Chevrolet Bel Air|15.0|        8|       350.0|       145|  4440|        14.0|   75|    US|     202|     NJ|\n",
      "|       Chevrolet C10|13.0|        8|       350.0|       145|  4055|        12.0|   76|    US|      75| DALLAS|\n",
      "|    Chevrolet Camaro|27.0|        4|       151.0|        90|  2950|        17.3|   82|    US|     438|  TEXAS|\n",
      "|Chevrolet Caprice...|13.0|        8|       400.0|       150|  4464|        12.0|   73|    US|     136|     OH|\n",
      "|Chevrolet Caprice...|17.5|        8|       305.0|       145|  3880|        12.5|   77|    US|     266|NewYork|\n",
      "|Chevrolet Caprice...|17.0|        8|       305.0|       130|  3840|        15.4|   79|    US|     330|     NJ|\n",
      "|  Chevrolet Cavalier|28.0|        4|       112.0|        88|  2605|        19.6|   82|    US|     413| DALLAS|\n",
      "|Chevrolet Cavalie...|34.0|        4|       112.0|        88|  2395|        18.0|   82|    US|     415|  TEXAS|\n",
      "|Chevrolet Cavalie...|27.0|        4|       112.0|        88|  2640|        18.6|   82|    US|     414|     OH|\n",
      "|Chevrolet Chevell...| 0.0|        8|       350.0|       165|  4142|        11.5|   70|    US|      33|NewYork|\n",
      "|Chevrolet Chevell...|13.0|        8|       307.0|       130|  4098|        14.0|   72|    US|     118|     NJ|\n",
      "|Chevrolet Chevell...|18.0|        8|       307.0|       130|  3504|        12.0|   70|    US|      20| DALLAS|\n",
      "|Chevrolet Chevell...|17.0|        6|       250.0|       100|  3329|        15.5|   71|    US|      80|NewYork|\n",
      "|Chevrolet Chevell...|16.0|        6|       250.0|       100|  3781|        17.0|   74|    US|     178|     NJ|\n",
      "|Chevrolet Chevell...|17.5|        8|       305.0|       140|  4215|        13.0|   76|    US|     232| DALLAS|\n",
      "|  Chevrolet Chevette|29.0|        4|        85.0|        52|  2035|        22.2|   76|    US|     240|  TEXAS|\n",
      "|  Chevrolet Chevette|30.5|        4|        98.0|        63|  2051|        17.0|   77|    US|     282|     OH|\n",
      "|  Chevrolet Chevette|30.0|        4|        98.0|        68|  2155|        16.5|   78|    US|     311|NewYork|\n",
      "|  Chevrolet Chevette|32.1|        4|        98.0|        70|  2120|        15.5|   80|    US|     356|     NJ|\n",
      "|  Chevrolet Citation|28.8|        6|       173.0|       115|  2595|        11.3|   79|    US|     351| DALLAS|\n",
      "|  Chevrolet Citation|28.0|        4|       151.0|        90|  2678|        16.5|   80|    US|     358|  TEXAS|\n",
      "|  Chevrolet Citation|23.5|        6|       173.0|       110|  2725|        12.6|   81|    US|     386|     OH|\n",
      "|  Chevrolet Concours|17.5|        6|       250.0|       110|  3520|        16.4|   77|    US|       7|NewYork|\n",
      "|    Chevrolet Impala|14.0|        8|       454.0|       220|  4354|         9.0|   70|    US|       7|     NJ|\n",
      "|    Chevrolet Impala|14.0|        8|       350.0|       165|  4209|        12.0|   71|    US|      83| DALLAS|\n",
      "|    Chevrolet Impala|13.0|        8|       350.0|       165|  4274|        12.0|   72|    US|     107|  TEXAS|\n",
      "|    Chevrolet Impala|11.0|        8|       400.0|       150|  4997|        14.0|   73|    US|     148|     OH|\n",
      "|    Chevrolet Malibu|13.0|        8|       350.0|       145|  3988|        13.0|   73|    US|     132|NewYork|\n",
      "|    Chevrolet Malibu|20.5|        6|       200.0|        95|  3155|        18.2|   78|    US|     298|     NJ|\n",
      "|Chevrolet Malibu ...|19.2|        8|       267.0|       125|  3605|        15.0|   79|    US|     336| DALLAS|\n",
      "|Chevrolet Monte C...|15.0|        8|       400.0|       150|  3761|         9.5|   70|    US|      56|NewYork|\n",
      "|Chevrolet Monte C...|15.5|        8|       350.0|       170|  4165|        11.4|   77|    US|     275|     NJ|\n",
      "|Chevrolet Monte C...|19.2|        8|       305.0|       145|  3425|        13.2|   78|    US|     307| DALLAS|\n",
      "|Chevrolet Monte C...|15.0|        8|       350.0|       145|  4082|        13.0|   73|    US|     160|  TEXAS|\n",
      "| Chevrolet Monza 2+2|20.0|        8|       262.0|       110|  3221|        13.5|   75|    US|     210|     OH|\n",
      "|      Chevrolet Nova|15.0|        6|       250.0|       100|  3336|        17.0|   74|    US|     173|NewYork|\n",
      "|      Chevrolet Nova|18.0|        6|       250.0|       105|  3459|        16.0|   75|    US|     198|     NJ|\n",
      "|      Chevrolet Nova|22.0|        6|       250.0|       105|  3353|        14.5|   76|    US|     237| DALLAS|\n",
      "|Chevrolet Nova Cu...|16.0|        6|       250.0|       100|  3278|        18.0|   73|    US|     143|  TEXAS|\n",
      "|      Chevrolet Vega|20.0|        4|       140.0|        90|  2408|        19.5|   72|    US|     105|     OH|\n",
      "|      Chevrolet Vega|21.0|        4|       140.0|        72|  2401|        19.5|   73|    US|     154|NewYork|\n",
      "|      Chevrolet Vega|25.0|        4|       140.0|        75|  2542|        17.0|   74|    US|     177|     NJ|\n",
      "+--------------------+----+---------+------------+----------+------+------------+-----+------+--------+-------+\n",
      "only showing top 100 rows\n",
      "\n"
     ]
    }
   ],
   "source": [
    "cardf.createTempView(\"dealer\")  # deal will use as a table name\n",
    "spark.sql(\"SELECT * from dealer\").show(100)\n"
   ]
  },
  {
   "cell_type": "code",
   "execution_count": 71,
   "metadata": {},
   "outputs": [
    {
     "name": "stdout",
     "output_type": "stream",
     "text": [
      "+--------------------+-------------+\n",
      "|                 Car|sum(quantity)|\n",
      "+--------------------+-------------+\n",
      "|Chevrolete Chevel...|          206|\n",
      "|Volkswagen 1131 D...|           63|\n",
      "|Chevrolet Monte C...|          582|\n",
      "|     Ford LTD Landau|          331|\n",
      "|       Honda Prelude|          400|\n",
      "|      Chevrolet Nova|          608|\n",
      "|   Volkswagen Rabbit|         1441|\n",
      "|     Ford Torino 500|           81|\n",
      "|        Toyota Camry|          153|\n",
      "|         Audi 100 LS|           65|\n",
      "|Plymouth Valiant ...|          197|\n",
      "|Toyota Corolla Ma...|          127|\n",
      "|Oldsmobile Cutlas...|          752|\n",
      "|Fiat 124 Sport Coupe|          159|\n",
      "|Chevrolet Caprice...|          732|\n",
      "|     Volvo 145e (sw)|          121|\n",
      "|            Audi Fox|          186|\n",
      "|    Chevrolet Camaro|          438|\n",
      "|       Dodge Aspen 6|          329|\n",
      "|AMC Ambassador Br...|           25|\n",
      "+--------------------+-------------+\n",
      "only showing top 20 rows\n",
      "\n"
     ]
    }
   ],
   "source": [
    "spark.sql(\"SELECT Car, sum(quantity) FROM dealer GROUP BY Car\").show()"
   ]
  },
  {
   "cell_type": "code",
   "execution_count": 72,
   "metadata": {},
   "outputs": [
    {
     "name": "stdout",
     "output_type": "stream",
     "text": [
      "+--------------------+---+---+\n",
      "|                 Car|sum|max|\n",
      "+--------------------+---+---+\n",
      "|AMC Ambassador Br...| 25| 25|\n",
      "|  AMC Ambassador DPL|  2|  2|\n",
      "|  AMC Ambassador SST|  4|  4|\n",
      "|         AMC Concord| 94| 52|\n",
      "|      AMC Concord DL| 45| 45|\n",
      "|    AMC Concord DL 6|328|328|\n",
      "|     AMC Concord d/l|  4|  4|\n",
      "|         AMC Gremlin|512|214|\n",
      "|          AMC Hornet|404|172|\n",
      "|AMC Hornet Sporta...| 90| 90|\n",
      "|         AMC Matador|833|234|\n",
      "|    AMC Matador (sw)|302|185|\n",
      "|           AMC Pacer|221|221|\n",
      "|       AMC Pacer d/l| 75| 75|\n",
      "|       AMC Rebel SST|  4|  4|\n",
      "|  AMC Rebel SST (sw)| 53| 53|\n",
      "|       AMC Spirit DL|575|575|\n",
      "|         Audi 100 LS| 65| 65|\n",
      "|          Audi 100LS|209|164|\n",
      "|           Audi 4000|362|362|\n",
      "+--------------------+---+---+\n",
      "only showing top 20 rows\n",
      "\n"
     ]
    }
   ],
   "source": [
    "spark.sql(\"SELECT Car, sum(quantity) AS sum, max(quantity) AS max FROM dealer GROUP BY Car ORDER BY Car\").show();"
   ]
  },
  {
   "cell_type": "code",
   "execution_count": 73,
   "metadata": {},
   "outputs": [
    {
     "name": "stdout",
     "output_type": "stream",
     "text": [
      "+--------------------+----+---------+------------+----------+------+------------+-----+------+--------+------+\n",
      "|                 Car| MPG|Cylinders|Displacement|Horsepower|Weight|Acceleration|Model|Origin|quantity|  city|\n",
      "+--------------------+----+---------+------------+----------+------+------------+-----+------+--------+------+\n",
      "|   Plymouth Arrow GS|25.5|        4|       122.0|        96|  2300|        15.5|   77|    US|   75275|    OH|\n",
      "|Buick Opel Isuzu ...|30.0|        4|       111.0|        80|  2155|        14.8|   77|    US|     814|    OH|\n",
      "|      Toyota Mark II|19.0|        6|       156.0|       108|  2930|        15.5|   76| Japan|     757| TEXAS|\n",
      "|Oldsmobile Cutlas...|17.0|        8|       260.0|       110|  4060|        19.0|   77|    US|     752|    NJ|\n",
      "|       AMC Spirit DL|27.4|        4|       121.0|        80|  2670|        15.0|   79|    US|     575|    OH|\n",
      "|     Ford Mustang GL|27.0|        4|       140.0|        86|  2790|        15.6|   82|    US|     439|    OH|\n",
      "|    Chevrolet Camaro|27.0|        4|       151.0|        90|  2950|        17.3|   82|    US|     438| TEXAS|\n",
      "|    Toyota Celica GT|32.0|        4|       144.0|        96|  2665|        13.9|   82| Japan|     436| TEXAS|\n",
      "|Chrysler Lebaron ...|26.0|        4|       156.0|        92|  2585|        14.5|   82|    US|     434|DALLAS|\n",
      "|Buick Century Lim...|25.0|        6|       181.0|       110|  2945|        16.4|   82|    US|     432|DALLAS|\n",
      "|       Datsun 310 GX|38.0|        4|        91.0|        67|  1995|        16.2|   82| Japan|     431|    NJ|\n",
      "|  Honda Civic (auto)|32.0|        4|        91.0|        67|  1965|        15.7|   82| Japan|     430| TEXAS|\n",
      "|      Toyota Corolla|34.0|        4|       108.0|        70|  2245|        16.9|   82| Japan|     428|    NJ|\n",
      "|        Honda Accord|36.0|        4|       107.0|        75|  2205|        14.5|   82| Japan|     427|    OH|\n",
      "|      Mercury Lynx l|36.0|        4|        98.0|        70|  2125|        17.3|   82|    US|     425| TEXAS|\n",
      "|Plymouth Horizon ...|38.0|        4|       105.0|        63|  2125|        14.7|   82|    US|     424|DALLAS|\n",
      "|    Mazda GLC Custom|31.0|        4|        91.0|        68|  1970|        17.6|   82| Japan|     423| TEXAS|\n",
      "|  Mazda GLC Custom l|37.0|        4|        91.0|        68|  2025|        18.2|   82| Japan|     422|    OH|\n",
      "| Volkswagen Rabbit l|36.0|        4|       105.0|        74|  1980|        15.3|   82|Europe|     421|    NJ|\n",
      "|Ford Fairmont Futura|24.0|        4|       140.0|        92|  2865|        16.4|   82|    US|     419|    NJ|\n",
      "+--------------------+----+---------+------------+----------+------+------------+-----+------+--------+------+\n",
      "only showing top 20 rows\n",
      "\n"
     ]
    }
   ],
   "source": [
    "spark.sql(\"SELECT * FROM dealer WHERE quantity > 200 ORDER BY quantity desc\").show();"
   ]
  },
  {
   "cell_type": "code",
   "execution_count": 74,
   "metadata": {},
   "outputs": [
    {
     "name": "stdout",
     "output_type": "stream",
     "text": [
      "+--------------------+-------------+\n",
      "|                 Car|sum(quantity)|\n",
      "+--------------------+-------------+\n",
      "|Chevrolete Chevel...|         null|\n",
      "|Volkswagen 1131 D...|         null|\n",
      "|Chevrolet Monte C...|         null|\n",
      "|     Ford LTD Landau|         null|\n",
      "|       Honda Prelude|         null|\n",
      "|      Chevrolet Nova|         null|\n",
      "|   Volkswagen Rabbit|         null|\n",
      "|     Ford Torino 500|         null|\n",
      "|        Toyota Camry|          153|\n",
      "|         Audi 100 LS|         null|\n",
      "|Plymouth Valiant ...|         null|\n",
      "|Toyota Corolla Ma...|         null|\n",
      "|Oldsmobile Cutlas...|         null|\n",
      "|Fiat 124 Sport Coupe|         null|\n",
      "|Chevrolet Caprice...|         null|\n",
      "|     Volvo 145e (sw)|         null|\n",
      "|            Audi Fox|         null|\n",
      "|    Chevrolet Camaro|         null|\n",
      "|       Dodge Aspen 6|         null|\n",
      "|AMC Ambassador Br...|         null|\n",
      "|    Pontiac Catalina|         null|\n",
      "|       Ford Maverick|         null|\n",
      "|      Chevrolet Vega|         null|\n",
      "|   Plymouth Fury III|         null|\n",
      "|       Datsun 200-SX|          318|\n",
      "+--------------------+-------------+\n",
      "only showing top 25 rows\n",
      "\n"
     ]
    }
   ],
   "source": [
    "spark.sql(\"SELECT Car, sum(quantity) FILTER (WHERE Car IN ('Toyota Camry', 'Datsun 200-SX')) AS `sum(quantity)` \\\n",
    "          FROM dealer GROUP BY Car\").show(25);\n"
   ]
  },
  {
   "cell_type": "code",
   "execution_count": 75,
   "metadata": {},
   "outputs": [
    {
     "name": "stdout",
     "output_type": "stream",
     "text": [
      "+--------------------+----------+\n",
      "|                 Car|  CarTitle|\n",
      "+--------------------+----------+\n",
      "|AMC Ambassador Br...|Ambassador|\n",
      "|  AMC Ambassador DPL|Ambassador|\n",
      "|  AMC Ambassador SST|Ambassador|\n",
      "|         AMC Concord|    Concor|\n",
      "|         AMC Concord|    Concor|\n",
      "|     AMC Concord d/l|   Concord|\n",
      "|      AMC Concord DL|   Concord|\n",
      "|    AMC Concord DL 6|   Concord|\n",
      "|         AMC Gremlin|    Gremli|\n",
      "|         AMC Gremlin|    Gremli|\n",
      "+--------------------+----------+\n",
      "only showing top 10 rows\n",
      "\n"
     ]
    }
   ],
   "source": [
    "spark.sql(\"SELECT Car, REGEXP_EXTRACT(Car, ' ([A-Za-z]+)\\.') AS CarTitle FROM dealer\").show(10)"
   ]
  },
  {
   "cell_type": "code",
   "execution_count": null,
   "metadata": {},
   "outputs": [],
   "source": []
  }
 ],
 "metadata": {
  "kernelspec": {
   "display_name": "Python 3",
   "language": "python",
   "name": "python3"
  },
  "language_info": {
   "codemirror_mode": {
    "name": "ipython",
    "version": 3
   },
   "file_extension": ".py",
   "mimetype": "text/x-python",
   "name": "python",
   "nbconvert_exporter": "python",
   "pygments_lexer": "ipython3",
   "version": "3.9.6"
  },
  "orig_nbformat": 4,
  "vscode": {
   "interpreter": {
    "hash": "31f2aee4e71d21fbe5cf8b01ff0e069b9275f58929596ceb00d14d90e3e16cd6"
   }
  }
 },
 "nbformat": 4,
 "nbformat_minor": 2
}
