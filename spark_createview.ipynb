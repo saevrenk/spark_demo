{
 "cells": [
  {
   "cell_type": "code",
   "execution_count": 23,
   "metadata": {},
   "outputs": [],
   "source": [
    "import pyspark\n",
    "from pyspark.sql import SparkSession\n",
    "from pyspark.sql.functions import *"
   ]
  },
  {
   "cell_type": "code",
   "execution_count": 4,
   "metadata": {},
   "outputs": [],
   "source": [
    "spark = SparkSession.builder.master(\"local[*]\").appName(\"SQL 2019 Survey\").getOrCreate()"
   ]
  },
  {
   "cell_type": "code",
   "execution_count": null,
   "metadata": {},
   "outputs": [],
   "source": [
    "so_df.createTempView(\"so_survey_2019\")\n",
    "spark.sql(\"SELECT count(*) from so_survey_2019\").show()\n",
    "spark.sql(\"SELECT Gender, avg(Age) from so_survey_2019 group byCountry ORDER BY Respondent_Count DESC LIMIT 5\").show(10)\n",
    "park.sql(\"SELECT Country, COUNT(*) as Respondent_Count FROM so_survey_2019 GROUP BY Country ORDER BY Respondent_Count DESC LIMIT 5\").show()\n",
    "spark.sql(\"select max(Age1stCode) as oldest_age  from so_survey_2019 \\\n",
    "    where Country= 'United States'\").show()\n",
    "    spark.sql(\"SELECT Country, UndergradMajor, MAX(Age1stCode) as oldest_age FROM so_survey_2019 \\\n",
    "            WHERE ((Country = 'United States') AND (UndergradMajor IN ('Computer science, computer engineering, or software engineering', 'Mathematics or statistics')) \\\n",
    "            GROUP BY Country, UndergradMajor\").show()\n",
    "spark.sql(\"SELECT MAX(CAST(Age1stCode as INT)) from  so_survey_2019\\\n",
    "    WHERE Country = 'United States' AND (UndergradMajor = 'Computer science, computer engineering, \\\n",
    "        or software engineering' \\\n",
    "        OR UndergradMajor = 'Mathematics or statistics' group by Country\").show()\n"
   ]
  },
  {
   "cell_type": "code",
   "execution_count": 8,
   "metadata": {},
   "outputs": [
    {
     "name": "stderr",
     "output_type": "stream",
     "text": [
      "                                                                                \r"
     ]
    },
    {
     "data": {
      "text/plain": [
       "\"['Respondent', 'MainBranch', 'Hobbyist', 'OpenSourcer', 'OpenSource', 'Employment', 'Country', 'Student', 'EdLevel', 'UndergradMajor', 'EduOther', 'OrgSize', 'DevType', 'YearsCode', 'Age1stCode', 'YearsCodePro', 'CareerSat', 'JobSat', 'MgrIdiot', 'MgrMoney', 'MgrWant', 'JobSeek', 'LastHireDate', 'LastInt', 'FizzBuzz', 'JobFactors', 'ResumeUpdate', 'CurrencySymbol', 'CurrencyDesc', 'CompTotal', 'CompFreq', 'ConvertedComp', 'WorkWeekHrs', 'WorkPlan', 'WorkChallenge', 'WorkRemote', 'WorkLoc', 'ImpSyn', 'CodeRev', 'CodeRevHrs', 'UnitTests', 'PurchaseHow', 'PurchaseWhat', 'LanguageWorkedWith', 'LanguageDesireNextYear', 'DatabaseWorkedWith', 'DatabaseDesireNextYear', 'PlatformWorkedWith', 'PlatformDesireNextYear', 'WebFrameWorkedWith', 'WebFrameDesireNextYear', 'MiscTechWorkedWith', 'MiscTechDesireNextYear', 'DevEnviron', 'OpSys', 'Containers', 'BlockchainOrg', 'BlockchainIs', 'BetterLife', 'ITperson', 'OffOn', 'SocialMedia', 'Extraversion', 'ScreenName', 'SOVisit1st', 'SOVisitFreq', 'SOVisitTo', 'SOFindAnswer', 'SOTimeSaved', 'SOHowMuchTime', 'SOAccount', 'SOPartFreq', 'SOJobs', 'EntTeams', 'SOComm', 'WelcomeChange', 'SONewContent', 'Age', 'Gender', 'Trans', 'Sexuality', 'Ethnicity', 'Dependents', 'SurveyLength', 'SurveyEase']\""
      ]
     },
     "execution_count": 8,
     "metadata": {},
     "output_type": "execute_result"
    }
   ],
   "source": [
    "csv_file =\"/Users/sae/Downloads/stack-overflow-developer-survey-2019/survey_results_public.csv\"\n",
    "df = spark.read.csv(csv_file, header=True, inferSchema=True)\n",
    "str(df.columns)"
   ]
  },
  {
   "cell_type": "code",
   "execution_count": 11,
   "metadata": {},
   "outputs": [
    {
     "name": "stdout",
     "output_type": "stream",
     "text": [
      "root\n",
      " |-- Age: string (nullable = true)\n",
      "\n"
     ]
    }
   ],
   "source": [
    "df[[\"Age\"]].printSchema()"
   ]
  },
  {
   "cell_type": "code",
   "execution_count": 18,
   "metadata": {},
   "outputs": [
    {
     "name": "stdout",
     "output_type": "stream",
     "text": [
      "+----+-----+\n",
      "| Age|count|\n",
      "+----+-----+\n",
      "|  51|  285|\n",
      "|26.5|    2|\n",
      "|  54|  247|\n",
      "|  15|  413|\n",
      "|  11|   12|\n",
      "|  29| 3991|\n",
      "|  69|   30|\n",
      "|  42| 1024|\n",
      "|  73|   18|\n",
      "|  64|   68|\n",
      "|   3|    3|\n",
      "|  30| 4050|\n",
      "|  34| 2393|\n",
      "|  59|  131|\n",
      "|24.5|    4|\n",
      "|  28| 4387|\n",
      "|  22| 3358|\n",
      "|26.3|    1|\n",
      "|17.5|    3|\n",
      "|  35| 2388|\n",
      "|  16|  588|\n",
      "|  52|  326|\n",
      "|  NA| 9673|\n",
      "|  71|   22|\n",
      "|  47|  507|\n",
      "|  99|   21|\n",
      "|  43|  835|\n",
      "|  31| 3063|\n",
      "|  18| 1160|\n",
      "|  70|   28|\n",
      "|  27| 4418|\n",
      "|  61|   96|\n",
      "|  75|   13|\n",
      "|  17|  704|\n",
      "|  26| 4397|\n",
      "|  46|  539|\n",
      "|  78|    8|\n",
      "|  77|    6|\n",
      "|  68|   24|\n",
      "|  60|  144|\n",
      "|  19| 1527|\n",
      "|  23| 4109|\n",
      "|  41|  976|\n",
      "|23.9|    1|\n",
      "|  55|  240|\n",
      "|  38| 1747|\n",
      "|  40| 1388|\n",
      "|  25| 4669|\n",
      "|  44|  699|\n",
      "|  53|  282|\n",
      "|  58|  171|\n",
      "|  33| 2713|\n",
      "|  48|  519|\n",
      "|29.5|    1|\n",
      "|  97|    1|\n",
      "|  67|   40|\n",
      "|  24| 4428|\n",
      "|  32| 3055|\n",
      "|   1|   18|\n",
      "|  20| 2095|\n",
      "|16.5|    4|\n",
      "|  56|  213|\n",
      "|  36| 2079|\n",
      "|  10|    3|\n",
      "|  37| 1807|\n",
      "|46.5|    1|\n",
      "|  49|  415|\n",
      "|  63|   72|\n",
      "|  65|   55|\n",
      "|  39| 1406|\n",
      "|  62|  119|\n",
      "|  12|   53|\n",
      "|  13|  138|\n",
      "|  14|  242|\n",
      "|  21| 2736|\n",
      "|  66|   38|\n",
      "|  74|   10|\n",
      "|  72|   25|\n",
      "|  76|    8|\n",
      "|  50|  463|\n",
      "|  45|  694|\n",
      "|  57|  172|\n",
      "|22.5|    1|\n",
      "|36.8|    1|\n",
      "|  98|    3|\n",
      "|19.5|    1|\n",
      "|14.1|    1|\n",
      "|  79|    3|\n",
      "|  83|    1|\n",
      "|13.5|    1|\n",
      "|43.5|    1|\n",
      "|38.5|    2|\n",
      "|21.5|    1|\n",
      "|31.5|    2|\n",
      "|28.5|    3|\n",
      "|24.8|    1|\n",
      "|33.6|    1|\n",
      "|   2|    8|\n",
      "|30.8|    1|\n",
      "|19.9|    1|\n",
      "+----+-----+\n",
      "only showing top 100 rows\n",
      "\n"
     ]
    }
   ],
   "source": [
    "# fix data types: Age\n",
    "df[[\"Age\"]].groupBy(\"Age\").count().show(100)"
   ]
  },
  {
   "cell_type": "code",
   "execution_count": 20,
   "metadata": {},
   "outputs": [
    {
     "name": "stdout",
     "output_type": "stream",
     "text": [
      "root\n",
      " |-- Age: float (nullable = true)\n",
      "\n"
     ]
    }
   ],
   "source": [
    "df = df.withColumn('Age', df.Age.cast('float'))"
   ]
  },
  {
   "cell_type": "code",
   "execution_count": 24,
   "metadata": {},
   "outputs": [],
   "source": [
    "# fix the data types: Age1stCode\n",
    "df = df.withColumn(\n",
    "                \"Age1stCode\", when(df.Age1stCode == 'Younger than 5 years', 4)\\\n",
    "                .when(df.Age1stCode == \"Older than 85\", 86)\\\n",
    "                .when(df.Age1stCode == \"NA\", None).otherwise(df.Age1stCode)\n",
    "                )"
   ]
  },
  {
   "cell_type": "code",
   "execution_count": 28,
   "metadata": {},
   "outputs": [],
   "source": [
    "df = df.withColumn('Age1stCode', df.Age1stCode.cast('integer'))\n"
   ]
  },
  {
   "cell_type": "code",
   "execution_count": 34,
   "metadata": {},
   "outputs": [],
   "source": [
    "df.createOrReplaceTempView(\"so_table\")\n"
   ]
  },
  {
   "cell_type": "code",
   "execution_count": 36,
   "metadata": {},
   "outputs": [
    {
     "name": "stdout",
     "output_type": "stream",
     "text": [
      "+--------------------+------------------+\n",
      "|              Gender|          avg(Age)|\n",
      "+--------------------+------------------+\n",
      "|                 Man| 30.42447950143923|\n",
      "|                  NA| 30.35884003741815|\n",
      "|Man;Non-binary, g...|28.915243902439027|\n",
      "|           Woman;Man| 26.23170731707317|\n",
      "|Woman;Man;Non-bin...| 29.78723404255319|\n",
      "|Woman;Non-binary,...|28.210884353741495|\n",
      "|Non-binary, gende...|29.018036072144287|\n",
      "|               Woman|29.495723917672105|\n",
      "+--------------------+------------------+\n",
      "\n"
     ]
    }
   ],
   "source": [
    "spark.sql(\"SELECT Gender, AVG(Age) FROM so_table GROUP BY Gender \").show()"
   ]
  },
  {
   "cell_type": "markdown",
   "metadata": {},
   "source": []
  },
  {
   "cell_type": "code",
   "execution_count": 44,
   "metadata": {},
   "outputs": [
    {
     "name": "stdout",
     "output_type": "stream",
     "text": [
      "+--------------+-------------+\n",
      "|       Country|n_respondents|\n",
      "+--------------+-------------+\n",
      "| United States|        20949|\n",
      "|         India|         9061|\n",
      "|       Germany|         5866|\n",
      "|United Kingdom|         5737|\n",
      "|        Canada|         3395|\n",
      "+--------------+-------------+\n",
      "\n"
     ]
    }
   ],
   "source": [
    "spark.sql(\"SELECT Country, Count(Respondent) as n_respondents \\\n",
    "           FROM so_table \\\n",
    "           GROUP BY Country \\\n",
    "           ORDER BY n_respondents DESC \\\n",
    "           LIMIT 5 \").show()"
   ]
  },
  {
   "cell_type": "code",
   "execution_count": 48,
   "metadata": {},
   "outputs": [
    {
     "name": "stdout",
     "output_type": "stream",
     "text": [
      "+-------------+---------------+\n",
      "|      Country|max(Age1stCode)|\n",
      "+-------------+---------------+\n",
      "|United States|             56|\n",
      "+-------------+---------------+\n",
      "\n"
     ]
    }
   ],
   "source": [
    "spark.sql(\"SELECT Country, MAX(Age1stCode) \\\n",
    "FROM so_table \\\n",
    "    WHERE Country == 'United States' AND \\\n",
    "    (UndergradMajor == 'Mathematics or statistics' OR \\\n",
    "     Undergradmajor == 'Computer science, computer engineering, or software engineering') \\\n",
    "    GROUP BY Country \") \\\n",
    "    .show()"
   ]
  }
 ],
 "metadata": {
  "kernelspec": {
   "display_name": "Python 3",
   "language": "python",
   "name": "python3"
  },
  "language_info": {
   "codemirror_mode": {
    "name": "ipython",
    "version": 3
   },
   "file_extension": ".py",
   "mimetype": "text/x-python",
   "name": "python",
   "nbconvert_exporter": "python",
   "pygments_lexer": "ipython3",
   "version": "3.9.6"
  },
  "orig_nbformat": 4,
  "vscode": {
   "interpreter": {
    "hash": "31f2aee4e71d21fbe5cf8b01ff0e069b9275f58929596ceb00d14d90e3e16cd6"
   }
  }
 },
 "nbformat": 4,
 "nbformat_minor": 2
}
