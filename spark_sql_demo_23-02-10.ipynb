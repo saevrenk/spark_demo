{
 "cells": [
  {
   "cell_type": "code",
   "execution_count": 1,
   "metadata": {},
   "outputs": [],
   "source": [
    "import findspark\n",
    "findspark.init()\n",
    "#findspark.find()\n",
    "\n",
    "from pyspark.sql import SparkSession\n",
    "from pyspark.sql.functions import*\n",
    "\n",
    "from pyspark.sql.types import StructType, StructField, StringType, IntegerType, BooleanType, DoubleType\n",
    "\n",
    "import pandas as pd"
   ]
  },
  {
   "cell_type": "code",
   "execution_count": 2,
   "metadata": {},
   "outputs": [],
   "source": [
    "spark = SparkSession.builder.master(\"local[*]\").appName(\"Test SQL app\").getOrCreate()"
   ]
  },
  {
   "attachments": {},
   "cell_type": "markdown",
   "metadata": {},
   "source": [
    "Create a New Column in a Spark DataFrame"
   ]
  },
  {
   "cell_type": "code",
   "execution_count": 19,
   "metadata": {},
   "outputs": [
    {
     "name": "stdout",
     "output_type": "stream",
     "text": [
      "+------+------------------+--------+--------+---------+----+-----------+----------+-----------------+\n",
      "|   MLS|          Location|   Price|Bedrooms|Bathrooms|Size|Price SQ Ft|    Status|PriceAfterService|\n",
      "+------+------------------+--------+--------+---------+----+-----------+----------+-----------------+\n",
      "|132842|     Arroyo Grande|795000.0|       3|        3|2371|      335.3|Short Sale|         796000.0|\n",
      "|134364|       Paso Robles|399000.0|       4|        3|2818|     141.59|Short Sale|         400000.0|\n",
      "|135141|       Paso Robles|545000.0|       4|        3|3032|     179.75|Short Sale|         546000.0|\n",
      "|135712|         Morro Bay|909000.0|       4|        4|3540|     256.78|Short Sale|         910000.0|\n",
      "|136282|Santa Maria-Orcutt|109900.0|       3|        1|1249|      87.99|Short Sale|         110900.0|\n",
      "|136431|            Oceano|324900.0|       3|        3|1800|      180.5|Short Sale|         325900.0|\n",
      "|137036|Santa Maria-Orcutt|192900.0|       4|        2|1603|     120.34|Short Sale|         193900.0|\n",
      "|137090|Santa Maria-Orcutt|215000.0|       3|        2|1450|     148.28|Short Sale|         216000.0|\n",
      "|137159|         Morro Bay|999000.0|       4|        3|3360|     297.32|Short Sale|        1000000.0|\n",
      "|137570|        Atascadero|319000.0|       3|        2|1323|     241.12|Short Sale|         320000.0|\n",
      "|138053|Santa Maria-Orcutt|350000.0|       3|        2|1750|      200.0|Short Sale|         351000.0|\n",
      "|138730|Santa Maria-Orcutt|249000.0|       3|        2|1400|     177.86|Short Sale|         250000.0|\n",
      "|139291|     Arroyo Grande|299000.0|       2|        2|1257|     237.87|Short Sale|         300000.0|\n",
      "|139427|Santa Maria-Orcutt|235900.0|       3|        2|1400|      168.5|Short Sale|         236900.0|\n",
      "|139461|Santa Maria-Orcutt|348000.0|       3|        2|1600|      217.5|Short Sale|         349000.0|\n",
      "|139661|       Paso Robles|314000.0|       4|        3|1794|     175.03|Short Sale|         315000.0|\n",
      "|139918|        Los Alamos|399000.0|       4|        2|1850|     215.68|Short Sale|         400000.0|\n",
      "|139932|        San Miguel|599000.0|       3|        3|2950|     203.05|Short Sale|         600000.0|\n",
      "|140044|       Paso Robles|299000.0|       3|        2|1719|     173.94|Short Sale|         300000.0|\n",
      "|140073|   San Luis Obispo|425000.0|       3|        3|1472|     288.72|Short Sale|         426000.0|\n",
      "+------+------------------+--------+--------+---------+----+-----------+----------+-----------------+\n",
      "only showing top 20 rows\n",
      "\n"
     ]
    }
   ],
   "source": [
    "df = spark.read.load(\"spark_files/RealEstate.csv\", format=\"csv\", header = True,inferSchema = True)\n",
    "#df.show(8)\n",
    "df.withColumn('PriceAfterService', df.Price + 1000).show()\n",
    "#Checking the Updated DataFrame\n"
   ]
  },
  {
   "attachments": {},
   "cell_type": "markdown",
   "metadata": {},
   "source": [
    "Select Method on Dataframe"
   ]
  },
  {
   "cell_type": "code",
   "execution_count": 8,
   "metadata": {},
   "outputs": [
    {
     "name": "stdout",
     "output_type": "stream",
     "text": [
      "+------------------+\n",
      "|          Location|\n",
      "+------------------+\n",
      "|     Arroyo Grande|\n",
      "|       Paso Robles|\n",
      "|       Paso Robles|\n",
      "|         Morro Bay|\n",
      "|Santa Maria-Orcutt|\n",
      "|            Oceano|\n",
      "|Santa Maria-Orcutt|\n",
      "|Santa Maria-Orcutt|\n",
      "|         Morro Bay|\n",
      "|        Atascadero|\n",
      "|Santa Maria-Orcutt|\n",
      "|Santa Maria-Orcutt|\n",
      "|     Arroyo Grande|\n",
      "|Santa Maria-Orcutt|\n",
      "|Santa Maria-Orcutt|\n",
      "|       Paso Robles|\n",
      "|        Los Alamos|\n",
      "|        San Miguel|\n",
      "|       Paso Robles|\n",
      "|   San Luis Obispo|\n",
      "+------------------+\n",
      "only showing top 20 rows\n",
      "\n"
     ]
    }
   ],
   "source": [
    "#Show all entries in Location column\n",
    "df.select(\"Location\").show(20)\n"
   ]
  },
  {
   "cell_type": "code",
   "execution_count": 9,
   "metadata": {},
   "outputs": [
    {
     "name": "stdout",
     "output_type": "stream",
     "text": [
      "+------------------+---------+----------+\n",
      "|          Location|    Price|    Status|\n",
      "+------------------+---------+----------+\n",
      "|     Arroyo Grande| 795000.0|Short Sale|\n",
      "|       Paso Robles| 399000.0|Short Sale|\n",
      "|       Paso Robles| 545000.0|Short Sale|\n",
      "|         Morro Bay| 909000.0|Short Sale|\n",
      "|Santa Maria-Orcutt| 109900.0|Short Sale|\n",
      "|            Oceano| 324900.0|Short Sale|\n",
      "|Santa Maria-Orcutt| 192900.0|Short Sale|\n",
      "|Santa Maria-Orcutt| 215000.0|Short Sale|\n",
      "|         Morro Bay| 999000.0|Short Sale|\n",
      "|        Atascadero| 319000.0|Short Sale|\n",
      "|Santa Maria-Orcutt| 350000.0|Short Sale|\n",
      "|Santa Maria-Orcutt| 249000.0|Short Sale|\n",
      "|     Arroyo Grande| 299000.0|Short Sale|\n",
      "|Santa Maria-Orcutt| 235900.0|Short Sale|\n",
      "|Santa Maria-Orcutt| 348000.0|Short Sale|\n",
      "|       Paso Robles| 314000.0|Short Sale|\n",
      "|        Los Alamos| 399000.0|Short Sale|\n",
      "|        San Miguel| 599000.0|Short Sale|\n",
      "|       Paso Robles| 299000.0|Short Sale|\n",
      "|   San Luis Obispo| 425000.0|Short Sale|\n",
      "|         Morro Bay|1100000.0|Short Sale|\n",
      "|           Cayucos|1500000.0|Short Sale|\n",
      "|Santa Maria-Orcutt| 110000.0|Short Sale|\n",
      "|Santa Maria-Orcutt| 200000.0|Short Sale|\n",
      "|Santa Maria-Orcutt| 134900.0|Short Sale|\n",
      "|Santa Maria-Orcutt| 250000.0|Short Sale|\n",
      "|       Pismo Beach| 950000.0|Short Sale|\n",
      "|Santa Maria-Orcutt| 239950.0|Short Sale|\n",
      "|Santa Maria-Orcutt| 170000.0|Short Sale|\n",
      "|Santa Maria-Orcutt| 285000.0|Short Sale|\n",
      "+------------------+---------+----------+\n",
      "only showing top 30 rows\n",
      "\n"
     ]
    }
   ],
   "source": [
    "#Show all entries in Location, Price, rank, Status columns\n",
    "df.select(\"Location\", \"Price\", \"Status\").show(30)"
   ]
  },
  {
   "attachments": {},
   "cell_type": "markdown",
   "metadata": {},
   "source": [
    "Select w/ Column"
   ]
  },
  {
   "cell_type": "code",
   "execution_count": 10,
   "metadata": {},
   "outputs": [
    {
     "name": "stdout",
     "output_type": "stream",
     "text": [
      "+------------------+\n",
      "|          HW Ratio|\n",
      "+------------------+\n",
      "|21.834285714285713|\n",
      "|20.263157894736842|\n",
      "|             24.48|\n",
      "|35.666666666666664|\n",
      "| 33.36666666666667|\n",
      "|28.416666666666668|\n",
      "|              null|\n",
      "| 36.27777777777778|\n",
      "| 29.42222222222222|\n",
      "|             26.34|\n",
      "|             27.89|\n",
      "|             29.14|\n",
      "|  28.5979381443299|\n",
      "|             29.45|\n",
      "|             29.01|\n",
      "| 34.27777777777778|\n",
      "|26.927272727272726|\n",
      "|             32.88|\n",
      "|             24.48|\n",
      "|33.018181818181816|\n",
      "+------------------+\n",
      "only showing top 20 rows\n",
      "\n"
     ]
    }
   ],
   "source": [
    "cardf = spark.read.load(\"spark_files/cars.csv\", format=\"csv\", header = True,inferSchema = True)\n",
    "\n",
    "cardf.withColumn('HW Ratio', cardf['Weight'] / cardf['Horsepower']).select('HW Ratio').show()"
   ]
  },
  {
   "cell_type": "code",
   "execution_count": 11,
   "metadata": {},
   "outputs": [
    {
     "name": "stdout",
     "output_type": "stream",
     "text": [
      "+------------------+\n",
      "|       avg(Weight)|\n",
      "+------------------+\n",
      "|2979.4137931034484|\n",
      "+------------------+\n",
      "\n",
      "+------------------+\n",
      "|       avg(Weight)|\n",
      "+------------------+\n",
      "|2979.4137931034484|\n",
      "+------------------+\n",
      "\n",
      "+-------------+-------------+\n",
      "|max(quantity)|min(quantity)|\n",
      "+-------------+-------------+\n",
      "|        75275|            2|\n",
      "+-------------+-------------+\n",
      "\n"
     ]
    }
   ],
   "source": [
    "cardf.select(mean(\"Weight\")).show()\n",
    "#Alternate \n",
    "cardf.select(avg('Weight')).show()\n",
    "\n",
    "cardf.select(max(\"quantity\"),min(\"quantity\")).show()"
   ]
  },
  {
   "cell_type": "code",
   "execution_count": 12,
   "metadata": {},
   "outputs": [
    {
     "name": "stdout",
     "output_type": "stream",
     "text": [
      "+-------------------+-------+\n",
      "|           Location|  Price|\n",
      "+-------------------+-------+\n",
      "| Santa Maria-Orcutt|29000.0|\n",
      "|         New Cuyama|40900.0|\n",
      "| Santa Maria-Orcutt|36000.0|\n",
      "| Santa Maria-Orcutt|26500.0|\n",
      "+-------------------+-------+\n",
      "\n"
     ]
    }
   ],
   "source": [
    "df.select('Location','Price').filter(df['Price'] < 50000).show ()\n",
    "\n",
    "# Alternate \n",
    "#df.select('Location','Price').filter(df.Price < 50000).show ()"
   ]
  },
  {
   "attachments": {},
   "cell_type": "markdown",
   "metadata": {},
   "source": [
    "Sort() method"
   ]
  },
  {
   "cell_type": "code",
   "execution_count": 13,
   "metadata": {},
   "outputs": [
    {
     "name": "stdout",
     "output_type": "stream",
     "text": [
      "+-------------------+---------+\n",
      "|           Location|    Price|\n",
      "+-------------------+---------+\n",
      "|      Arroyo Grande|5499000.0|\n",
      "|            Cambria|2995000.0|\n",
      "|    San Luis Obispo|2369000.0|\n",
      "|            Cambria|2000000.0|\n",
      "|        Avila Beach|1999000.0|\n",
      "|      Arroyo Grande|1900000.0|\n",
      "|        Pismo Beach|1799000.0|\n",
      "|             Nipomo|1700000.0|\n",
      "|            Bradley|1600000.0|\n",
      "|            Cayucos|1500000.0|\n",
      "|      Arroyo Grande|1499000.0|\n",
      "|    San Luis Obispo|1490000.0|\n",
      "|             Nipomo|1399900.0|\n",
      "|          Templeton|1399000.0|\n",
      "|         Santa Ynez|1395000.0|\n",
      "|           Los Osos|1350000.0|\n",
      "|            Cambria|1290000.0|\n",
      "|             Oceano|1250000.0|\n",
      "|           Los Osos|1249000.0|\n",
      "|      Arroyo Grande|1249000.0|\n",
      "|        Out Of Area|1195000.0|\n",
      "|             Oceano|1195000.0|\n",
      "|          Templeton|1150000.0|\n",
      "|            Cambria|1100000.0|\n",
      "|          Morro Bay|1100000.0|\n",
      "|        Pismo Beach|1100000.0|\n",
      "|             Nipomo|1065000.0|\n",
      "|          Morro Bay|1045000.0|\n",
      "|       Grover Beach| 999000.0|\n",
      "|         Santa Ynez| 999000.0|\n",
      "|          Morro Bay| 999000.0|\n",
      "|            Cambria| 995000.0|\n",
      "|         Atascadero| 995000.0|\n",
      "|      Arroyo Grande| 995000.0|\n",
      "|          Morro Bay| 982800.0|\n",
      "|      Arroyo Grande| 975000.0|\n",
      "|        Pismo Beach| 950000.0|\n",
      "|         Atascadero| 949000.0|\n",
      "|        Pismo Beach| 920000.0|\n",
      "|          Morro Bay| 909000.0|\n",
      "|         Atascadero| 900000.0|\n",
      "|          Morro Bay| 899000.0|\n",
      "|        Pismo Beach| 899000.0|\n",
      "|          Templeton| 899000.0|\n",
      "|         Atascadero| 895000.0|\n",
      "|    San Luis Obispo| 890000.0|\n",
      "|         Atascadero| 890000.0|\n",
      "|             Nipomo| 879000.0|\n",
      "|        Pismo Beach| 875000.0|\n",
      "|         Atascadero| 865000.0|\n",
      "|            Cambria| 865000.0|\n",
      "| Santa Maria-Orcutt| 850000.0|\n",
      "|         Atascadero| 850000.0|\n",
      "|      Arroyo Grande| 850000.0|\n",
      "|      Arroyo Grande| 849900.0|\n",
      "|        Pismo Beach| 849500.0|\n",
      "|        Avila Beach| 839000.0|\n",
      "|         Atascadero| 830000.0|\n",
      "|         Atascadero| 829900.0|\n",
      "|            Cambria| 825000.0|\n",
      "|         Atascadero| 820000.0|\n",
      "|         Atascadero| 810000.0|\n",
      "|          Templeton| 799000.0|\n",
      "|        Pismo Beach| 795000.0|\n",
      "|      Arroyo Grande| 795000.0|\n",
      "|         Santa Ynez| 795000.0|\n",
      "|          Morro Bay| 789000.0|\n",
      "|             Oceano| 789000.0|\n",
      "|           Los Osos| 779000.0|\n",
      "|        Avila Beach| 779000.0|\n",
      "|          Templeton| 774800.0|\n",
      "|          Morro Bay| 774000.0|\n",
      "| Santa Maria-Orcutt| 751900.0|\n",
      "|         Atascadero| 750000.0|\n",
      "|      Arroyo Grande| 749000.0|\n",
      "|           Los Osos| 729000.0|\n",
      "|            Cambria| 729000.0|\n",
      "|         San Miguel| 720000.0|\n",
      "| Santa Maria-Orcutt| 699900.0|\n",
      "|            Cambria| 699900.0|\n",
      "|             Nipomo| 699000.0|\n",
      "|         Atascadero| 699000.0|\n",
      "|        Paso Robles| 695000.0|\n",
      "|            Cayucos| 695000.0|\n",
      "|         Santa Ynez| 695000.0|\n",
      "|         Atascadero| 669000.0|\n",
      "|          Morro Bay| 652000.0|\n",
      "|            Cambria| 650000.0|\n",
      "|           Los Osos| 650000.0|\n",
      "|             Nipomo| 650000.0|\n",
      "|             Nipomo| 649000.0|\n",
      "|           Los Osos| 648000.0|\n",
      "|           Buellton| 645000.0|\n",
      "| Santa Maria-Orcutt| 641900.0|\n",
      "|         Atascadero| 640000.0|\n",
      "|        Pismo Beach| 639900.0|\n",
      "|           Los Osos| 625000.0|\n",
      "|          Templeton| 625000.0|\n",
      "|        Pismo Beach| 604995.0|\n",
      "|        Paso Robles| 599900.0|\n",
      "+-------------------+---------+\n",
      "only showing top 100 rows\n",
      "\n"
     ]
    }
   ],
   "source": [
    "df.select(\"Location\", \"Price\").sort(df[\"Price\"].desc()).show(100)"
   ]
  },
  {
   "cell_type": "code",
   "execution_count": 14,
   "metadata": {},
   "outputs": [
    {
     "name": "stdout",
     "output_type": "stream",
     "text": [
      "+--------------+------------------+\n",
      "|      Location|        avg(Price)|\n",
      "+--------------+------------------+\n",
      "|   Pismo Beach| 772374.5833333334|\n",
      "|     King City|          131190.0|\n",
      "|    New Cuyama|           40900.0|\n",
      "|        Nipomo| 454166.6666666667|\n",
      "|        Oceano|          392640.0|\n",
      "|        Nipomo| 430629.4117647059|\n",
      "|     Templeton| 705890.9090909091|\n",
      "| Arroyo Grande|1013958.3333333334|\n",
      "|   Bakersfield|           91500.0|\n",
      "|     Guadalupe|          117250.0|\n",
      "+--------------+------------------+\n",
      "only showing top 10 rows\n",
      "\n"
     ]
    }
   ],
   "source": [
    "df.select(\"Location\", \"Price\").groupby(\"Location\").avg().show(10)"
   ]
  },
  {
   "cell_type": "code",
   "execution_count": 15,
   "metadata": {},
   "outputs": [
    {
     "name": "stdout",
     "output_type": "stream",
     "text": [
      "+------------------+-----------+-------------------------+\n",
      "|          Location|     Status|Status LIKE %Foreclosure%|\n",
      "+------------------+-----------+-------------------------+\n",
      "|     Arroyo Grande| Short Sale|                    false|\n",
      "|       Paso Robles| Short Sale|                    false|\n",
      "|       Paso Robles| Short Sale|                    false|\n",
      "|         Morro Bay| Short Sale|                    false|\n",
      "|Santa Maria-Orcutt| Short Sale|                    false|\n",
      "|            Oceano| Short Sale|                    false|\n",
      "|Santa Maria-Orcutt| Short Sale|                    false|\n",
      "|Santa Maria-Orcutt| Short Sale|                    false|\n",
      "|         Morro Bay| Short Sale|                    false|\n",
      "|        Atascadero| Short Sale|                    false|\n",
      "|Santa Maria-Orcutt| Short Sale|                    false|\n",
      "|Santa Maria-Orcutt| Short Sale|                    false|\n",
      "|     Arroyo Grande| Short Sale|                    false|\n",
      "|Santa Maria-Orcutt| Short Sale|                    false|\n",
      "|Santa Maria-Orcutt| Short Sale|                    false|\n",
      "|       Paso Robles| Short Sale|                    false|\n",
      "|        Los Alamos| Short Sale|                    false|\n",
      "|        San Miguel| Short Sale|                    false|\n",
      "|       Paso Robles| Short Sale|                    false|\n",
      "|   San Luis Obispo| Short Sale|                    false|\n",
      "|         Morro Bay| Short Sale|                    false|\n",
      "|           Cayucos| Short Sale|                    false|\n",
      "|Santa Maria-Orcutt| Short Sale|                    false|\n",
      "|Santa Maria-Orcutt| Short Sale|                    false|\n",
      "|Santa Maria-Orcutt| Short Sale|                    false|\n",
      "|Santa Maria-Orcutt| Short Sale|                    false|\n",
      "|       Pismo Beach| Short Sale|                    false|\n",
      "|Santa Maria-Orcutt| Short Sale|                    false|\n",
      "|Santa Maria-Orcutt| Short Sale|                    false|\n",
      "|Santa Maria-Orcutt| Short Sale|                    false|\n",
      "|Santa Maria-Orcutt| Short Sale|                    false|\n",
      "|Santa Maria-Orcutt| Short Sale|                    false|\n",
      "|Santa Maria-Orcutt| Short Sale|                    false|\n",
      "|        Atascadero| Short Sale|                    false|\n",
      "|            Nipomo| Short Sale|                    false|\n",
      "|         Guadalupe| Short Sale|                    false|\n",
      "|Santa Maria-Orcutt| Short Sale|                    false|\n",
      "|       Pismo Beach| Short Sale|                    false|\n",
      "|Santa Maria-Orcutt| Short Sale|                    false|\n",
      "|         Morro Bay| Short Sale|                    false|\n",
      "|Santa Maria-Orcutt| Short Sale|                    false|\n",
      "|Santa Maria-Orcutt| Short Sale|                    false|\n",
      "|            Nipomo| Short Sale|                    false|\n",
      "|          Los Osos| Short Sale|                    false|\n",
      "|     Arroyo Grande| Short Sale|                    false|\n",
      "|         Templeton| Short Sale|                    false|\n",
      "|         Templeton| Short Sale|                    false|\n",
      "|      Grover Beach| Short Sale|                    false|\n",
      "|Santa Maria-Orcutt| Short Sale|                    false|\n",
      "|Santa Maria-Orcutt| Short Sale|                    false|\n",
      "|Santa Maria-Orcutt| Short Sale|                    false|\n",
      "|Santa Maria-Orcutt| Short Sale|                    false|\n",
      "|Santa Maria-Orcutt| Short Sale|                    false|\n",
      "|         Templeton|Foreclosure|                     true|\n",
      "|Santa Maria-Orcutt| Short Sale|                    false|\n",
      "|           Cambria| Short Sale|                    false|\n",
      "|         Morro Bay|Foreclosure|                     true|\n",
      "|            Nipomo| Short Sale|                    false|\n",
      "|            Nipomo| Short Sale|                    false|\n",
      "|       Paso Robles| Short Sale|                    false|\n",
      "|       Pismo Beach| Short Sale|                    false|\n",
      "|          Los Osos| Short Sale|                    false|\n",
      "|Santa Maria-Orcutt| Short Sale|                    false|\n",
      "|         Morro Bay|Foreclosure|                     true|\n",
      "|         Morro Bay|Foreclosure|                     true|\n",
      "|         Morro Bay|Foreclosure|                     true|\n",
      "|Santa Maria-Orcutt| Short Sale|                    false|\n",
      "|Santa Maria-Orcutt| Short Sale|                    false|\n",
      "|      Grover Beach| Short Sale|                    false|\n",
      "|            Nipomo| Short Sale|                    false|\n",
      "|Santa Maria-Orcutt| Short Sale|                    false|\n",
      "|       Paso Robles| Short Sale|                    false|\n",
      "|Santa Maria-Orcutt| Short Sale|                    false|\n",
      "|       Paso Robles| Short Sale|                    false|\n",
      "|Santa Maria-Orcutt|Foreclosure|                     true|\n",
      "|            Nipomo| Short Sale|                    false|\n",
      "|Santa Maria-Orcutt| Short Sale|                    false|\n",
      "|Santa Maria-Orcutt| Short Sale|                    false|\n",
      "|Santa Maria-Orcutt| Short Sale|                    false|\n",
      "|     Arroyo Grande| Short Sale|                    false|\n",
      "|   San Luis Obispo| Short Sale|                    false|\n",
      "|Santa Maria-Orcutt| Short Sale|                    false|\n",
      "|        Atascadero| Short Sale|                    false|\n",
      "|Santa Maria-Orcutt| Short Sale|                    false|\n",
      "|       Paso Robles| Short Sale|                    false|\n",
      "|Santa Maria-Orcutt| Short Sale|                    false|\n",
      "|       Paso Robles| Short Sale|                    false|\n",
      "|         Templeton| Short Sale|                    false|\n",
      "|   San Luis Obispo| Short Sale|                    false|\n",
      "|       Paso Robles| Short Sale|                    false|\n",
      "|Santa Maria-Orcutt| Short Sale|                    false|\n",
      "|          Los Osos| Short Sale|                    false|\n",
      "|        Atascadero| Short Sale|                    false|\n",
      "|       Paso Robles| Short Sale|                    false|\n",
      "|Santa Maria-Orcutt|Foreclosure|                     true|\n",
      "|Santa Maria-Orcutt| Short Sale|                    false|\n",
      "|     Arroyo Grande| Short Sale|                    false|\n",
      "|Santa Maria-Orcutt|Foreclosure|                     true|\n",
      "|       Paso Robles| Short Sale|                    false|\n",
      "|Santa Maria-Orcutt| Short Sale|                    false|\n",
      "+------------------+-----------+-------------------------+\n",
      "only showing top 100 rows\n",
      "\n"
     ]
    }
   ],
   "source": [
    "df.select(\"Location\", \"Status\", df.Status.like(\"%Foreclosure%\")).show(100)"
   ]
  },
  {
   "attachments": {},
   "cell_type": "markdown",
   "metadata": {},
   "source": [
    "Dataframe with SparkSQL Table"
   ]
  },
  {
   "cell_type": "code",
   "execution_count": 16,
   "metadata": {},
   "outputs": [
    {
     "name": "stdout",
     "output_type": "stream",
     "text": [
      "+--------+\n",
      "|count(1)|\n",
      "+--------+\n",
      "|       1|\n",
      "+--------+\n",
      "\n"
     ]
    }
   ],
   "source": [
    "zipdf = spark.read.json(\"spark_files/zipcode1.json\")\n",
    "zipdf.createTempView(\"ziptable1\")\n",
    "spark.sql(\"SELECT count(*) from ziptable1\").show()"
   ]
  },
  {
   "attachments": {},
   "cell_type": "markdown",
   "metadata": {},
   "source": [
    "Join two date frames using the .sql Method from two .csv files"
   ]
  },
  {
   "cell_type": "code",
   "execution_count": 17,
   "metadata": {},
   "outputs": [
    {
     "name": "stdout",
     "output_type": "stream",
     "text": [
      "root\n",
      " |-- employeeNumber: integer (nullable = true)\n",
      " |-- lastName: string (nullable = true)\n",
      " |-- firstName: string (nullable = true)\n",
      " |-- extension: string (nullable = true)\n",
      " |-- email: string (nullable = true)\n",
      " |-- officeCode: integer (nullable = true)\n",
      " |-- reportsTo: integer (nullable = true)\n",
      " |-- jobTitle: string (nullable = true)\n",
      "\n",
      "root\n",
      " |-- employeeNumber: integer (nullable = true)\n",
      " |-- lastName: string (nullable = true)\n",
      " |-- firstName: string (nullable = true)\n",
      " |-- extension: string (nullable = true)\n",
      " |-- email: string (nullable = true)\n",
      " |-- officeCode: integer (nullable = true)\n",
      " |-- reportsTo: integer (nullable = true)\n",
      " |-- jobTitle: string (nullable = true)\n",
      "\n",
      "+--------------+---------+---------+--------------------+----------+--------------------+-----+\n",
      "|employeeNumber|firstName| lastName|            jobTitle|officeCode|        addressLine1|state|\n",
      "+--------------+---------+---------+--------------------+----------+--------------------+-----+\n",
      "|          1002|    Diane|   Murphy|           President|         1|   100 Market Street|   CA|\n",
      "|          1056|     Mary|Patterson|            VP Sales|         1|   100 Market Street|   CA|\n",
      "|          1076|     Jeff| Firrelli|        VP Marketing|         1|   100 Market Street|   CA|\n",
      "|          1088|  William|Patterson|Sales Manager (APAC)|         6|5-11 Wentworth Av...| NULL|\n",
      "|          1102|   Gerard|   Bondur| Sale Manager (EMEA)|         4|     43 Rue Jouffroy|   NY|\n",
      "|          1143|  Anthony|      Bow|  Sales Manager (NA)|         1|   100 Market Street|   CA|\n",
      "|          1165|   Leslie| Jennings|           Sales Rep|         1|   100 Market Street|   CA|\n",
      "|          1166|   Leslie| Thompson|           Sales Rep|         1|   100 Market Street|   CA|\n",
      "|          1188|    Julie| Firrelli|           Sales Rep|         2|    1550 Court Place|   MA|\n",
      "|          1216|    Steve|Patterson|           Sales Rep|         2|    1550 Court Place|   MA|\n",
      "+--------------+---------+---------+--------------------+----------+--------------------+-----+\n",
      "only showing top 10 rows\n",
      "\n"
     ]
    }
   ],
   "source": [
    "empdf = spark.read.load(\"spark_files/employee.csv\", format=\"csv\", header = True,inferSchema = True)\n",
    "empdf.printSchema()\n",
    "\n",
    "officedf = spark.read.load(\"spark_files/officecode.csv\", format=\"csv\", header = True  ,inferSchema = True)\n",
    "empdf.printSchema()\n",
    "\n",
    "empdf.createTempView(\"employee_table\")\n",
    "officedf.createTempView(\"office_table\")\n",
    "\n",
    "spark.sql(\"SELECT employee_table.employeeNumber, employee_table.firstName,employee_table.lastName,jobTitle, employee_table.officeCode, \\\n",
    "office_table.addressLine1, office_table.state  FROM employee_table \\\n",
    "join office_table ON office_table.officeCode = employee_table.officeCode\").show(10)"
   ]
  },
  {
   "attachments": {},
   "cell_type": "markdown",
   "metadata": {},
   "source": [
    "Connect to a SparkSQL Database and add a new Table"
   ]
  },
  {
   "cell_type": "code",
   "execution_count": 18,
   "metadata": {},
   "outputs": [
    {
     "name": "stdout",
     "output_type": "stream",
     "text": [
      "root\n",
      " |-- EMPLOYEEID: long (nullable = true)\n",
      " |-- employee_name: string (nullable = true)\n",
      " |-- department: string (nullable = true)\n",
      " |-- state: string (nullable = true)\n",
      " |-- salary: long (nullable = true)\n",
      "\n"
     ]
    }
   ],
   "source": [
    "simpleData = [(1,\"James\",\"Sales\",\"NY\",90000), \\\n",
    "    (2,\"Michael\",\"Sales\",\"NY\",86000), \\\n",
    "    (3,\"Robert\",\"Sales\",\"CA\",81000), \\\n",
    "    (4,\"Maria\",\"Finance\",\"CA\",90000)]\n",
    "#---- Declare schema for data-----\n",
    "columns = [\"EMPLOYEEID\",\"employee_name\",\"department\",\"state\",\"salary\"]\n",
    "\n",
    "# --- Creating data frame Using createDataFrame() function-----\n",
    "df = spark.createDataFrame(data = simpleData, schema = columns)\n",
    "df.printSchema()\n",
    "\n",
    "#----  save the dataframe to the MySQL table-----\n",
    "df.write.format(\"jdbc\") \\\n",
    "  .mode(\"append\") \\\n",
    "  .option(\"url\", \"jdbc:mysql://localhost:3306/classicmodels\") \\\n",
    "  .option(\"dbtable\", \"classicmodels.Employees_forSparkDemo\") \\\n",
    "  .option(\"user\", \"root\") \\\n",
    "  .option(\"password\", \"password\") \\\n",
    "  .save()\n"
   ]
  }
 ],
 "metadata": {
  "kernelspec": {
   "display_name": "Python 3",
   "language": "python",
   "name": "python3"
  },
  "language_info": {
   "codemirror_mode": {
    "name": "ipython",
    "version": 3
   },
   "file_extension": ".py",
   "mimetype": "text/x-python",
   "name": "python",
   "nbconvert_exporter": "python",
   "pygments_lexer": "ipython3",
   "version": "3.10.9"
  },
  "orig_nbformat": 4,
  "vscode": {
   "interpreter": {
    "hash": "827a1ebbc8f307c8077451cc966d3185efad7db987bf320661a700f88698640d"
   }
  }
 },
 "nbformat": 4,
 "nbformat_minor": 2
}
